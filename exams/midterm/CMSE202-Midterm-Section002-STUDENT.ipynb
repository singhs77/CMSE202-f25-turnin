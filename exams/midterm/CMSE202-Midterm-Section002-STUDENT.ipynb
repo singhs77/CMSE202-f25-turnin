{
 "cells": [
  {
   "cell_type": "markdown",
   "id": "d70b1917",
   "metadata": {},
   "source": [
    "### <p style=\"text-align: right;\"> &#9989; simran singh.</p>\n",
    "### <p style=\"text-align: right;\"> &#9989; singhs77</p>"
   ]
  },
  {
   "cell_type": "markdown",
   "id": "59201064",
   "metadata": {},
   "source": [
    "# CMSE 202 Midterm (Section 002 - SS25)\n",
    "\n",
    "\n",
    "# &#128721; READ EVERYTHING CAREFULLY\n",
    "\n",
    "\n",
    "The goal of this midterm is to give you the opportunity to test out some of the skills that you've developed thus far this semester. In particular, you'll practice setting up a GitHub repository, committing and pushing repository changes, downloading data with command line tools, performing some data analysis, possibly using a new Python package, and writing a python class. You should find that you have all of the skills necessary to complete this exam with even just eight weeks of CMSE 202 under your belt!\n",
    "\n",
    "You are encouraged to look through the entire exam before you get started so that you can appropriately budget your time and understand the broad goals of the exam. Once you've read through it, try doing Parts 1 and 2 first so that you have your repository set up and you download all necessary data files as they will be necessary to complete the assigned tasks. Let your instructor know right away if you have problems downloading the data!\n",
    "\n",
    "The exam is set up so that even if you get stuck on one part there are opportunities to get points on the other parts, so consider jumping ahead if you feel like you aren't making progress and then come back later if you have time.\n",
    "\n",
    "**Important note about using online resources**: This exam is **\"open internet\"**. That means that you can look up documentation, google how to accomplish certain Python tasks, reference and use your in-class assignments, pre-class assignments and homework, etc. Being able to effectively use the internet for computational modeling and data science is a very important skill, so we want to make sure you have the opportunity to exercise that skill. **However**: The use of any person-to-person communication software is absolutely not acceptable. If you are seen accessing your email, using a chat program (e.g. Slack), or any sort of collaborative cloud storage or document software (e.g. Google Documents), you will be at risk for receiving a zero on the exam.\n",
    "\n",
    "**Important Guidelines on AI Tool Usage**\n",
    "\n",
    "This exam allows the use of AI tools (such as ChatGPT, Claude, HiTA) with specific guidelines that mirror real-world professional practices. These tools should enhance your learning and problem-solving process, not replace your intellectual engagement. Here are the key requirements:\n",
    "\n",
    "1. **Appropriate Use of AI**:\n",
    "   - Use AI as a learning assistant to understand concepts, debug code, or get unstuck\n",
    "   - Use AI to improve your solution approach or verify your thinking\n",
    "   - Use AI to learn about new Python packages or functions you might need\n",
    "\n",
    "2. **Prohibited Uses**:\n",
    "   - Direct copying of AI-generated solutions without understanding\n",
    "   - Asking AI to complete entire questions without your intellectual input\n",
    "   - Using AI to modify provided starter code or test cases\n",
    "   - Using AI to circumvent learning objectives or problem requirements\n",
    "\n",
    "3. **Documentation Requirements**:\n",
    "   - You must cite any AI assistance received by adding a comment that includes:\n",
    "     * The AI tool used\n",
    "     * The specific question you asked\n",
    "     * How you modified or improved upon the AI's suggestion\n",
    "   - Example: \"# AI assistance: Used Claude to understand lmfit parameter initialization. Modified the suggested approach to include custom bounds.\"\n",
    "\n",
    "4. **Evaluation Implications**:\n",
    "   - Questions showing signs of direct AI solution copying will receive zero points\n",
    "   - Evidence of not following problem instructions, even if AI-suggested, will result in zero points\n",
    "   - Modified starter code or test cases will result in zero points for that question\n",
    "\n",
    "Remember: The goal is to demonstrate your understanding and problem-solving abilities. AI tools should support your learning, not replace your critical thinking and coding skills.\n",
    "\n",
    "**Note**: Traditional open internet resources (documentation, Stack Overflow, etc.) remain available, but person-to-person communication tools are not permitted.\"\n",
    "\n",
    "**Keep your eyes on your screen!** Unfortunately, there isn't enough space in the room for everyone to sit at their own table so please do your best to keep your eyes on your own screen. This exam is designed to give *you* the opportunity to show the instructor what you can do and you should hold yourself accountable for maintaining a high level of academic integrity. If any of the instructors observe suspicious behavior, you will, again, risk receiving a zero.\n",
    "\n",
    "The maximum number of points is: **88 Points**"
   ]
  },
  {
   "cell_type": "markdown",
   "id": "1134d11f",
   "metadata": {},
   "source": [
    "![star](https://media.giphy.com/media/xT9IgEYXCNqPZnqMuY/giphy.gif?cid=790b761114d73fop8879b63i6lpgjulam3sgmg7gib5vksnd&ep=v1_gifs_search&rid=giphy.gif&ct=g)"
   ]
  },
  {
   "cell_type": "markdown",
   "id": "1f1d868f",
   "metadata": {},
   "source": [
    "## Table of Contents\n",
    "\n",
    "Navigate through the midterm using these links:\n",
    "\n",
    "* [Part 0: Academic integrity statement (1 point)](#part-0-academic-integrity-statement-1-point)\n",
    "* [Part 1: Git and Command Line Interface (9 points)](#part-1-git-and-command-line-interface-9-points)\n",
    "* [Part 2: Working with a less familiar Python package (13 points)](#part-2-working-with-a-less-familiar-python-package-13-points)\n",
    "* [Part 3: Downloading and analyzing unfamiliar data (24 points)](#part-3-downloading-and-analyzing-unfamiliar-data-24-points)\n",
    "* [Part 4: Object-Oriented Programming (38 points)](#part-4-object-oriented-programming-38-points)\n",
    "* [Part 5. Conclusion (3 points)](#part-5-conclusion-3-points)"
   ]
  },
  {
   "cell_type": "markdown",
   "id": "b47a797c",
   "metadata": {},
   "source": [
    "---\n",
    "<a id=\"part-0-academic-integrity-statement-1-point\"></a>\n",
    "\n",
    "# Part 0: Academic integrity statement (1 point)\n",
    "\n",
    "[Back to Table of Contents](#Table-of-Contents)\n",
    "\n",
    "Read the following statement and edit the markdown text to put your name in the statement. This is your commitment to doing your own authentic work on this exam."
   ]
  },
  {
   "cell_type": "markdown",
   "id": "64f82697",
   "metadata": {},
   "source": [
    "> I, simran singh, affirm that this exam represents my own authetic work, without the use of any unpermitted aids or resources or person-to-person communication. I understand that this exam an an opportunity to showcase my own progress in developing and improving my computational skills and have done my best to demonstrate those skills."
   ]
  },
  {
   "cell_type": "markdown",
   "id": "aade4f33",
   "metadata": {},
   "source": [
    "---\n",
    "<a id=\"part-1-git-and-command-line-interface-9-points\"></a>\n",
    "\n",
    "# Part 1: Git and Command Line Interface (9 points)\n",
    "\n",
    "[Back to Table of Contents](#Table-of-Contents)\n",
    "\n",
    "## Setup Instructions\n",
    "\n",
    "Before starting this section:\n",
    "1. Open a new terminal/powershell/command prompt window\n",
    "2. (Optional) Arrange your screen with this notebook on the left side and the terminal on the right side. This split-screen setup will help you work efficiently between the notebook and terminal\n",
    "\n",
    "**Important**: Even if your terminal opens in the correct directory, you must write out the full commands as if starting from your home directory."
   ]
  },
  {
   "cell_type": "markdown",
   "id": "4757287d",
   "metadata": {},
   "source": [
    "&#9989; **Question 1.1 (2 points)**: Move into your `cmse202-s25-turnin` folder and verify your location. This folder should be the local one you created for your homework on Github. If you do not have this folder, raise your hand and we will help you set it up.\n",
    "\n",
    "Write the commands you used below (minimum 2 lines):"
   ]
  },
  {
   "cell_type": "markdown",
   "id": "efa27a7b",
   "metadata": {
    "question_id": "P1Q1",
    "tags": [
     "student_answer"
    ]
   },
   "source": [
    "**<font size=+3>&#9998;</font> \n",
    "- mv cmse202-midterm0section02 cmse202-f25-turnin \n",
    "- cd cmse 202-f25-turnin*"
   ]
  },
  {
   "cell_type": "markdown",
   "id": "2f2207da",
   "metadata": {},
   "source": [
    "&#9989; **Question 1.2 (2 points)**: Create the following directory structure in your repository:\n",
    "```\n",
    "cmse202-s25-turnin/\n",
    "    └── exams/\n",
    "        ├── midterm/\n",
    "        └── final/\n",
    "```\n",
    "Write the commands you used to create these folders:"
   ]
  },
  {
   "cell_type": "markdown",
   "id": "17cec07d",
   "metadata": {
    "question_id": "P1Q2",
    "tags": [
     "student_answer"
    ]
   },
   "source": [
    "- mkdir exams\n",
    "- cd exams\n",
    "- mkdir midterm\n",
    "- mkdir final\n"
   ]
  },
  {
   "cell_type": "markdown",
   "id": "9809047d",
   "metadata": {},
   "source": [
    "&#9989; **Question 1.3 (1 point)**: Write the commands to move this notebook into the `midterm` folder:"
   ]
  },
  {
   "cell_type": "markdown",
   "id": "b7c93a91",
   "metadata": {
    "question_id": "P1Q3",
    "tags": [
     "student_answer"
    ]
   },
   "source": [
    "mv notebook midterm/\n"
   ]
  },
  {
   "cell_type": "markdown",
   "id": "359a1ad0",
   "metadata": {},
   "source": [
    "&#9989; **Question 1.4 (2 points)**: Check your repository status.\n",
    "\n",
    "Write the command you used:"
   ]
  },
  {
   "cell_type": "markdown",
   "id": "32452880",
   "metadata": {
    "question_id": "P1Q4",
    "tags": [
     "student_answer"
    ]
   },
   "source": [
    "- git status\n"
   ]
  },
  {
   "cell_type": "markdown",
   "id": "a407b77c",
   "metadata": {},
   "source": [
    "Paste the output of the command:"
   ]
  },
  {
   "cell_type": "markdown",
   "id": "fefc1655",
   "metadata": {
    "question_id": "P1Q4",
    "tags": [
     "student_answer"
    ]
   },
   "source": [
    "On branch main\n",
    "Your branch is up to date with 'origin/main'.\n",
    "\n",
    "Changes not staged for commit:\n",
    "  (use \"git add <file>...\" to update what will be committed)\n",
    "  (use \"git restore <file>...\" to discard changes in working directory)\n",
    "        modified:   hw-01/HW-01_GitPracticeDebuggingPythonPackagesAndClasses-SS25-STUDENT.ipynb\n",
    "\n",
    "Untracked files:\n",
    "  (use \"git add <file>...\" to include in what will be committed)\n",
    "        .README.md.swp\n",
    "        .ipynb_checkpoints/\n",
    "        exams/\n"
   ]
  },
  {
   "cell_type": "markdown",
   "id": "29792cc2",
   "metadata": {},
   "source": [
    "&#9989; **Question 1.5 (1 point)**: Do you have any untracked files? Confirm you don't have any untracked files. The only file we want to track is CMSE202-Midterm-Section001-STUDENT. Write down the commands used to either confirm you don't have any untracked files, or the commands you used to track your file."
   ]
  },
  {
   "cell_type": "markdown",
   "id": "94c946d5",
   "metadata": {
    "question_id": "P1Q5",
    "tags": [
     "student_answer"
    ]
   },
   "source": [
    "- git status\n",
    "- git add exams/\n",
    "  "
   ]
  },
  {
   "cell_type": "markdown",
   "id": "6899637a",
   "metadata": {},
   "source": [
    "&#9989; **Question 1.6 (1 point)**: Commit your changes with the message \"Committing Part 1 of midterm\" and push to GitHub.\n",
    "\n",
    "Write the commands you used:"
   ]
  },
  {
   "cell_type": "markdown",
   "id": "106bd161",
   "metadata": {
    "question_id": "P1Q6",
    "tags": [
     "student_answer"
    ]
   },
   "source": [
    "- git commit -m \"Committing part 1 of midterm\"\n",
    "- git push orgin main"
   ]
  },
  {
   "cell_type": "markdown",
   "id": "3021170c",
   "metadata": {},
   "source": [
    "**Important**: Double check you've added your Professor and your TA as collaborators to your \"turnin\" respository (you should have done this in the previous homework assignment)"
   ]
  },
  {
   "cell_type": "markdown",
   "id": "990abf6b",
   "metadata": {},
   "source": [
    "**Also important**: Make sure that the version of this notebook that you are working on is the same one that you just added to your repository! If you are working on a different copy of the noteobok, none of your changes will be tracked!"
   ]
  },
  {
   "cell_type": "markdown",
   "id": "b41bfa88",
   "metadata": {},
   "source": [
    "--- \n",
    "<a id=\"part-2-working-with-a-less-familiar-python-package-13-points\"></a>\n",
    "\n",
    "# Part 2: Working with a less familiar Python package (13 points)\n",
    "\n",
    "[Back to Table of Contents](#Table-of-Contents)\n",
    "\n",
    "In this part of the exam you will need to review a bit of documentation from either a Python package that you've explored a bit this semester or a new one.\n",
    "\n",
    "Let's install and use the plotly package"
   ]
  },
  {
   "cell_type": "markdown",
   "id": "5ad13a1b",
   "metadata": {},
   "source": [
    "&#9989; **Question 2.1 (2 points)**: Install the package `plotly` using `pip`. Here is the link to the [documentation]( https://plotly.com/python/)\n"
   ]
  },
  {
   "cell_type": "code",
   "execution_count": 3,
   "id": "7cdc59fe",
   "metadata": {
    "question_id": "P1Q5",
    "tags": [
     "student_answer"
    ]
   },
   "outputs": [
    {
     "name": "stdout",
     "output_type": "stream",
     "text": [
      "Defaulting to user installation because normal site-packages is not writeable\n",
      "Requirement already satisfied: plotly in /home/singhs77/.local/lib/python3.11/site-packages (5.24.1)\n",
      "Requirement already satisfied: tenacity>=6.2.0 in /home/singhs77/.local/lib/python3.11/site-packages (from plotly) (9.0.0)\n",
      "Requirement already satisfied: packaging in /opt/miniconda3/lib/python3.11/site-packages (from plotly) (24.2)\n",
      "Note: you may need to restart the kernel to use updated packages.\n"
     ]
    }
   ],
   "source": [
    "# Put your code/commands here.\n",
    "%pip install plotly\n"
   ]
  },
  {
   "cell_type": "markdown",
   "id": "53fd0b11",
   "metadata": {},
   "source": [
    "&#9989; **Question 2.2 (2 points)**: Load in any dataset of your choice from [here]( https://plotly.com/python-api-reference/generated/plotly.data.html ). Assign this data as the variable \"my_plotly_data\" and then display this data."
   ]
  },
  {
   "cell_type": "code",
   "execution_count": 7,
   "id": "32d1b3d8",
   "metadata": {
    "question_id": "P1Q5",
    "tags": [
     "student_answer"
    ]
   },
   "outputs": [
    {
     "data": {
      "text/html": [
       "<div>\n",
       "<style scoped>\n",
       "    .dataframe tbody tr th:only-of-type {\n",
       "        vertical-align: middle;\n",
       "    }\n",
       "\n",
       "    .dataframe tbody tr th {\n",
       "        vertical-align: top;\n",
       "    }\n",
       "\n",
       "    .dataframe thead th {\n",
       "        text-align: right;\n",
       "    }\n",
       "</style>\n",
       "<table border=\"1\" class=\"dataframe\">\n",
       "  <thead>\n",
       "    <tr style=\"text-align: right;\">\n",
       "      <th></th>\n",
       "      <th>total_bill</th>\n",
       "      <th>tip</th>\n",
       "      <th>sex</th>\n",
       "      <th>smoker</th>\n",
       "      <th>day</th>\n",
       "      <th>time</th>\n",
       "      <th>size</th>\n",
       "    </tr>\n",
       "  </thead>\n",
       "  <tbody>\n",
       "    <tr>\n",
       "      <th>0</th>\n",
       "      <td>16.99</td>\n",
       "      <td>1.01</td>\n",
       "      <td>Female</td>\n",
       "      <td>No</td>\n",
       "      <td>Sun</td>\n",
       "      <td>Dinner</td>\n",
       "      <td>2</td>\n",
       "    </tr>\n",
       "    <tr>\n",
       "      <th>1</th>\n",
       "      <td>10.34</td>\n",
       "      <td>1.66</td>\n",
       "      <td>Male</td>\n",
       "      <td>No</td>\n",
       "      <td>Sun</td>\n",
       "      <td>Dinner</td>\n",
       "      <td>3</td>\n",
       "    </tr>\n",
       "    <tr>\n",
       "      <th>2</th>\n",
       "      <td>21.01</td>\n",
       "      <td>3.50</td>\n",
       "      <td>Male</td>\n",
       "      <td>No</td>\n",
       "      <td>Sun</td>\n",
       "      <td>Dinner</td>\n",
       "      <td>3</td>\n",
       "    </tr>\n",
       "    <tr>\n",
       "      <th>3</th>\n",
       "      <td>23.68</td>\n",
       "      <td>3.31</td>\n",
       "      <td>Male</td>\n",
       "      <td>No</td>\n",
       "      <td>Sun</td>\n",
       "      <td>Dinner</td>\n",
       "      <td>2</td>\n",
       "    </tr>\n",
       "    <tr>\n",
       "      <th>4</th>\n",
       "      <td>24.59</td>\n",
       "      <td>3.61</td>\n",
       "      <td>Female</td>\n",
       "      <td>No</td>\n",
       "      <td>Sun</td>\n",
       "      <td>Dinner</td>\n",
       "      <td>4</td>\n",
       "    </tr>\n",
       "  </tbody>\n",
       "</table>\n",
       "</div>"
      ],
      "text/plain": [
       "   total_bill   tip     sex smoker  day    time  size\n",
       "0       16.99  1.01  Female     No  Sun  Dinner     2\n",
       "1       10.34  1.66    Male     No  Sun  Dinner     3\n",
       "2       21.01  3.50    Male     No  Sun  Dinner     3\n",
       "3       23.68  3.31    Male     No  Sun  Dinner     2\n",
       "4       24.59  3.61  Female     No  Sun  Dinner     4"
      ]
     },
     "execution_count": 7,
     "metadata": {},
     "output_type": "execute_result"
    }
   ],
   "source": [
    "# Put your code here\n",
    "import plotly \n",
    "\n",
    "my_plotly_data = plotly.data.tips()\n",
    "\n",
    "my_plotly_data.head()\n"
   ]
  },
  {
   "cell_type": "markdown",
   "id": "76e7442e",
   "metadata": {},
   "source": [
    "#### &#9989; **Question 2.3 (6 points)**: Using plotly, create a figure that visualizes your data (or at least some parts of your data). Make sure there are appropriate labels like title, x-axis, and y-axis, etc. "
   ]
  },
  {
   "cell_type": "code",
   "execution_count": 10,
   "id": "cebca85c",
   "metadata": {
    "question_id": "P1Q5",
    "tags": [
     "student_answer"
    ]
   },
   "outputs": [
    {
     "data": {
      "application/vnd.plotly.v1+json": {
       "config": {
        "plotlyServerURL": "https://plot.ly"
       },
       "data": [
        {
         "customdata": [
          [
           "No",
           "Sun",
           "Dinner"
          ],
          [
           "No",
           "Sun",
           "Dinner"
          ],
          [
           "No",
           "Sun",
           "Dinner"
          ],
          [
           "No",
           "Sun",
           "Dinner"
          ],
          [
           "No",
           "Sun",
           "Dinner"
          ],
          [
           "No",
           "Sun",
           "Dinner"
          ],
          [
           "No",
           "Sat",
           "Dinner"
          ],
          [
           "No",
           "Sat",
           "Dinner"
          ],
          [
           "No",
           "Sat",
           "Dinner"
          ],
          [
           "No",
           "Sat",
           "Dinner"
          ],
          [
           "No",
           "Sat",
           "Dinner"
          ],
          [
           "No",
           "Sat",
           "Dinner"
          ],
          [
           "No",
           "Sun",
           "Dinner"
          ],
          [
           "No",
           "Sun",
           "Dinner"
          ],
          [
           "No",
           "Sat",
           "Dinner"
          ],
          [
           "No",
           "Sat",
           "Dinner"
          ],
          [
           "Yes",
           "Sat",
           "Dinner"
          ],
          [
           "No",
           "Sat",
           "Dinner"
          ],
          [
           "Yes",
           "Sat",
           "Dinner"
          ],
          [
           "Yes",
           "Sat",
           "Dinner"
          ],
          [
           "No",
           "Sat",
           "Dinner"
          ],
          [
           "No",
           "Thur",
           "Lunch"
          ],
          [
           "No",
           "Thur",
           "Lunch"
          ],
          [
           "Yes",
           "Fri",
           "Dinner"
          ],
          [
           "Yes",
           "Fri",
           "Dinner"
          ],
          [
           "No",
           "Fri",
           "Dinner"
          ],
          [
           "Yes",
           "Fri",
           "Dinner"
          ],
          [
           "Yes",
           "Fri",
           "Dinner"
          ],
          [
           "Yes",
           "Sat",
           "Dinner"
          ],
          [
           "Yes",
           "Sat",
           "Dinner"
          ],
          [
           "No",
           "Sat",
           "Dinner"
          ],
          [
           "Yes",
           "Sat",
           "Dinner"
          ],
          [
           "No",
           "Sat",
           "Dinner"
          ],
          [
           "No",
           "Sun",
           "Dinner"
          ],
          [
           "No",
           "Sun",
           "Dinner"
          ],
          [
           "No",
           "Thur",
           "Lunch"
          ],
          [
           "No",
           "Thur",
           "Lunch"
          ],
          [
           "No",
           "Thur",
           "Lunch"
          ],
          [
           "No",
           "Thur",
           "Lunch"
          ],
          [
           "No",
           "Thur",
           "Lunch"
          ],
          [
           "No",
           "Thur",
           "Lunch"
          ],
          [
           "No",
           "Thur",
           "Lunch"
          ],
          [
           "No",
           "Thur",
           "Lunch"
          ],
          [
           "No",
           "Thur",
           "Lunch"
          ],
          [
           "No",
           "Thur",
           "Lunch"
          ],
          [
           "No",
           "Thur",
           "Lunch"
          ],
          [
           "No",
           "Thur",
           "Lunch"
          ],
          [
           "No",
           "Thur",
           "Lunch"
          ],
          [
           "No",
           "Thur",
           "Lunch"
          ],
          [
           "No",
           "Thur",
           "Lunch"
          ],
          [
           "No",
           "Thur",
           "Lunch"
          ],
          [
           "No",
           "Thur",
           "Lunch"
          ],
          [
           "No",
           "Thur",
           "Lunch"
          ],
          [
           "No",
           "Thur",
           "Lunch"
          ],
          [
           "No",
           "Thur",
           "Lunch"
          ],
          [
           "No",
           "Thur",
           "Lunch"
          ],
          [
           "No",
           "Thur",
           "Lunch"
          ],
          [
           "No",
           "Sun",
           "Dinner"
          ],
          [
           "No",
           "Sun",
           "Dinner"
          ],
          [
           "No",
           "Sun",
           "Dinner"
          ],
          [
           "No",
           "Sun",
           "Dinner"
          ],
          [
           "Yes",
           "Sun",
           "Dinner"
          ],
          [
           "Yes",
           "Sat",
           "Dinner"
          ],
          [
           "Yes",
           "Sat",
           "Dinner"
          ],
          [
           "Yes",
           "Sun",
           "Dinner"
          ],
          [
           "Yes",
           "Sun",
           "Dinner"
          ],
          [
           "Yes",
           "Sun",
           "Dinner"
          ],
          [
           "Yes",
           "Thur",
           "Lunch"
          ],
          [
           "Yes",
           "Thur",
           "Lunch"
          ],
          [
           "Yes",
           "Thur",
           "Lunch"
          ],
          [
           "Yes",
           "Thur",
           "Lunch"
          ],
          [
           "Yes",
           "Thur",
           "Lunch"
          ],
          [
           "Yes",
           "Thur",
           "Lunch"
          ],
          [
           "Yes",
           "Thur",
           "Lunch"
          ],
          [
           "Yes",
           "Sat",
           "Dinner"
          ],
          [
           "Yes",
           "Sat",
           "Dinner"
          ],
          [
           "Yes",
           "Sat",
           "Dinner"
          ],
          [
           "Yes",
           "Sat",
           "Dinner"
          ],
          [
           "Yes",
           "Sat",
           "Dinner"
          ],
          [
           "Yes",
           "Fri",
           "Lunch"
          ],
          [
           "No",
           "Fri",
           "Lunch"
          ],
          [
           "Yes",
           "Fri",
           "Lunch"
          ],
          [
           "Yes",
           "Fri",
           "Lunch"
          ],
          [
           "Yes",
           "Sat",
           "Dinner"
          ],
          [
           "No",
           "Sat",
           "Dinner"
          ],
          [
           "Yes",
           "Sat",
           "Dinner"
          ],
          [
           "No",
           "Thur",
           "Dinner"
          ]
         ],
         "hovertemplate": "sex=Female<br>Total Bill ($)=%{x}<br>Tip ($)=%{y}<br>size=%{marker.size}<br>smoker=%{customdata[0]}<br>day=%{customdata[1]}<br>time=%{customdata[2]}<extra></extra>",
         "legendgroup": "Female",
         "marker": {
          "color": "#636efa",
          "size": [
           2,
           4,
           4,
           2,
           3,
           3,
           2,
           2,
           2,
           2,
           4,
           3,
           2,
           4,
           2,
           2,
           1,
           3,
           2,
           2,
           2,
           1,
           4,
           2,
           2,
           2,
           2,
           2,
           3,
           2,
           2,
           2,
           1,
           3,
           2,
           2,
           2,
           4,
           2,
           2,
           6,
           2,
           2,
           2,
           2,
           2,
           2,
           2,
           2,
           2,
           2,
           2,
           6,
           2,
           2,
           3,
           2,
           5,
           4,
           2,
           3,
           2,
           2,
           2,
           2,
           3,
           3,
           2,
           4,
           2,
           2,
           2,
           2,
           3,
           2,
           2,
           3,
           2,
           4,
           2,
           3,
           2,
           2,
           2,
           3,
           2,
           2
          ],
          "sizemode": "area",
          "sizeref": 0.015,
          "symbol": "circle"
         },
         "mode": "markers",
         "name": "Female",
         "orientation": "v",
         "showlegend": true,
         "type": "scatter",
         "x": [
          16.99,
          24.59,
          35.26,
          14.83,
          10.33,
          16.97,
          20.29,
          15.77,
          19.65,
          15.06,
          20.69,
          16.93,
          10.29,
          34.81,
          26.41,
          16.45,
          3.07,
          17.07,
          26.86,
          25.28,
          14.73,
          10.07,
          34.83,
          5.75,
          16.32,
          22.75,
          11.35,
          15.38,
          44.3,
          22.42,
          20.92,
          14.31,
          7.25,
          25.71,
          17.31,
          10.65,
          12.43,
          24.08,
          13.42,
          12.48,
          29.8,
          14.52,
          11.38,
          20.27,
          11.17,
          12.26,
          18.26,
          8.51,
          10.33,
          14.15,
          13.16,
          17.47,
          27.05,
          16.43,
          8.35,
          18.64,
          11.87,
          29.85,
          25,
          13.39,
          16.21,
          17.51,
          10.59,
          10.63,
          9.6,
          20.9,
          18.15,
          19.81,
          43.11,
          13,
          12.74,
          13,
          16.4,
          16.47,
          12.76,
          13.27,
          28.17,
          12.9,
          30.14,
          13.42,
          15.98,
          16.27,
          10.09,
          22.12,
          35.83,
          27.18,
          18.78
         ],
         "xaxis": "x",
         "y": [
          1.01,
          3.61,
          5,
          3.02,
          1.67,
          3.5,
          2.75,
          2.23,
          3,
          3,
          2.45,
          3.07,
          2.6,
          5.2,
          1.5,
          2.47,
          1,
          3,
          3.14,
          5,
          2.2,
          1.83,
          5.17,
          1,
          4.3,
          3.25,
          2.5,
          3,
          2.5,
          3.48,
          4.08,
          4,
          1,
          4,
          3.5,
          1.5,
          1.8,
          2.92,
          1.68,
          2.52,
          4.2,
          2,
          2,
          2.83,
          1.5,
          2,
          3.25,
          1.25,
          2,
          2,
          2.75,
          3.5,
          5,
          2.3,
          1.5,
          1.36,
          1.63,
          5.14,
          3.75,
          2.61,
          2,
          3,
          1.61,
          2,
          4,
          3.5,
          3.5,
          4.19,
          5,
          2,
          2.01,
          2,
          2.5,
          3.23,
          2.23,
          2.5,
          6.5,
          1.1,
          3.09,
          3.48,
          3,
          2.5,
          2,
          2.88,
          4.67,
          2,
          3
         ],
         "yaxis": "y"
        },
        {
         "customdata": [
          [
           "No",
           "Sun",
           "Dinner"
          ],
          [
           "No",
           "Sun",
           "Dinner"
          ],
          [
           "No",
           "Sun",
           "Dinner"
          ],
          [
           "No",
           "Sun",
           "Dinner"
          ],
          [
           "No",
           "Sun",
           "Dinner"
          ],
          [
           "No",
           "Sun",
           "Dinner"
          ],
          [
           "No",
           "Sun",
           "Dinner"
          ],
          [
           "No",
           "Sun",
           "Dinner"
          ],
          [
           "No",
           "Sun",
           "Dinner"
          ],
          [
           "No",
           "Sun",
           "Dinner"
          ],
          [
           "No",
           "Sun",
           "Dinner"
          ],
          [
           "No",
           "Sun",
           "Dinner"
          ],
          [
           "No",
           "Sun",
           "Dinner"
          ],
          [
           "No",
           "Sat",
           "Dinner"
          ],
          [
           "No",
           "Sat",
           "Dinner"
          ],
          [
           "No",
           "Sat",
           "Dinner"
          ],
          [
           "No",
           "Sat",
           "Dinner"
          ],
          [
           "No",
           "Sat",
           "Dinner"
          ],
          [
           "No",
           "Sat",
           "Dinner"
          ],
          [
           "No",
           "Sat",
           "Dinner"
          ],
          [
           "No",
           "Sat",
           "Dinner"
          ],
          [
           "No",
           "Sat",
           "Dinner"
          ],
          [
           "No",
           "Sat",
           "Dinner"
          ],
          [
           "No",
           "Sat",
           "Dinner"
          ],
          [
           "No",
           "Sat",
           "Dinner"
          ],
          [
           "No",
           "Sat",
           "Dinner"
          ],
          [
           "No",
           "Sat",
           "Dinner"
          ],
          [
           "No",
           "Sat",
           "Dinner"
          ],
          [
           "No",
           "Sat",
           "Dinner"
          ],
          [
           "No",
           "Sun",
           "Dinner"
          ],
          [
           "No",
           "Sun",
           "Dinner"
          ],
          [
           "No",
           "Sun",
           "Dinner"
          ],
          [
           "No",
           "Sun",
           "Dinner"
          ],
          [
           "No",
           "Sun",
           "Dinner"
          ],
          [
           "No",
           "Sun",
           "Dinner"
          ],
          [
           "No",
           "Sun",
           "Dinner"
          ],
          [
           "No",
           "Sun",
           "Dinner"
          ],
          [
           "No",
           "Sun",
           "Dinner"
          ],
          [
           "No",
           "Sun",
           "Dinner"
          ],
          [
           "No",
           "Sun",
           "Dinner"
          ],
          [
           "No",
           "Sun",
           "Dinner"
          ],
          [
           "No",
           "Sun",
           "Dinner"
          ],
          [
           "Yes",
           "Sat",
           "Dinner"
          ],
          [
           "Yes",
           "Sat",
           "Dinner"
          ],
          [
           "No",
           "Sat",
           "Dinner"
          ],
          [
           "Yes",
           "Sat",
           "Dinner"
          ],
          [
           "Yes",
           "Sat",
           "Dinner"
          ],
          [
           "Yes",
           "Sat",
           "Dinner"
          ],
          [
           "Yes",
           "Sat",
           "Dinner"
          ],
          [
           "No",
           "Sat",
           "Dinner"
          ],
          [
           "No",
           "Sat",
           "Dinner"
          ],
          [
           "No",
           "Sat",
           "Dinner"
          ],
          [
           "Yes",
           "Sat",
           "Dinner"
          ],
          [
           "No",
           "Sat",
           "Dinner"
          ],
          [
           "No",
           "Sat",
           "Dinner"
          ],
          [
           "Yes",
           "Sat",
           "Dinner"
          ],
          [
           "No",
           "Thur",
           "Lunch"
          ],
          [
           "No",
           "Thur",
           "Lunch"
          ],
          [
           "No",
           "Thur",
           "Lunch"
          ],
          [
           "Yes",
           "Thur",
           "Lunch"
          ],
          [
           "No",
           "Thur",
           "Lunch"
          ],
          [
           "Yes",
           "Thur",
           "Lunch"
          ],
          [
           "No",
           "Thur",
           "Lunch"
          ],
          [
           "No",
           "Thur",
           "Lunch"
          ],
          [
           "No",
           "Thur",
           "Lunch"
          ],
          [
           "No",
           "Thur",
           "Lunch"
          ],
          [
           "No",
           "Thur",
           "Lunch"
          ],
          [
           "Yes",
           "Fri",
           "Dinner"
          ],
          [
           "No",
           "Fri",
           "Dinner"
          ],
          [
           "Yes",
           "Fri",
           "Dinner"
          ],
          [
           "Yes",
           "Fri",
           "Dinner"
          ],
          [
           "Yes",
           "Fri",
           "Dinner"
          ],
          [
           "Yes",
           "Fri",
           "Dinner"
          ],
          [
           "No",
           "Fri",
           "Dinner"
          ],
          [
           "Yes",
           "Sat",
           "Dinner"
          ],
          [
           "Yes",
           "Sat",
           "Dinner"
          ],
          [
           "Yes",
           "Sat",
           "Dinner"
          ],
          [
           "No",
           "Sat",
           "Dinner"
          ],
          [
           "No",
           "Sat",
           "Dinner"
          ],
          [
           "No",
           "Sun",
           "Dinner"
          ],
          [
           "No",
           "Sun",
           "Dinner"
          ],
          [
           "No",
           "Sun",
           "Dinner"
          ],
          [
           "No",
           "Thur",
           "Lunch"
          ],
          [
           "No",
           "Thur",
           "Lunch"
          ],
          [
           "No",
           "Thur",
           "Lunch"
          ],
          [
           "No",
           "Thur",
           "Lunch"
          ],
          [
           "No",
           "Thur",
           "Lunch"
          ],
          [
           "No",
           "Thur",
           "Lunch"
          ],
          [
           "Yes",
           "Thur",
           "Lunch"
          ],
          [
           "No",
           "Thur",
           "Lunch"
          ],
          [
           "No",
           "Thur",
           "Lunch"
          ],
          [
           "No",
           "Thur",
           "Lunch"
          ],
          [
           "No",
           "Thur",
           "Lunch"
          ],
          [
           "No",
           "Sun",
           "Dinner"
          ],
          [
           "No",
           "Sun",
           "Dinner"
          ],
          [
           "No",
           "Sun",
           "Dinner"
          ],
          [
           "No",
           "Sun",
           "Dinner"
          ],
          [
           "No",
           "Sun",
           "Dinner"
          ],
          [
           "No",
           "Sun",
           "Dinner"
          ],
          [
           "No",
           "Sun",
           "Dinner"
          ],
          [
           "No",
           "Sun",
           "Dinner"
          ],
          [
           "No",
           "Sun",
           "Dinner"
          ],
          [
           "No",
           "Sun",
           "Dinner"
          ],
          [
           "No",
           "Sun",
           "Dinner"
          ],
          [
           "No",
           "Sun",
           "Dinner"
          ],
          [
           "No",
           "Sun",
           "Dinner"
          ],
          [
           "Yes",
           "Sat",
           "Dinner"
          ],
          [
           "Yes",
           "Sat",
           "Dinner"
          ],
          [
           "Yes",
           "Sun",
           "Dinner"
          ],
          [
           "Yes",
           "Sun",
           "Dinner"
          ],
          [
           "Yes",
           "Sun",
           "Dinner"
          ],
          [
           "Yes",
           "Sun",
           "Dinner"
          ],
          [
           "Yes",
           "Sun",
           "Dinner"
          ],
          [
           "Yes",
           "Sun",
           "Dinner"
          ],
          [
           "Yes",
           "Sun",
           "Dinner"
          ],
          [
           "Yes",
           "Sun",
           "Dinner"
          ],
          [
           "Yes",
           "Sun",
           "Dinner"
          ],
          [
           "Yes",
           "Sun",
           "Dinner"
          ],
          [
           "Yes",
           "Sun",
           "Dinner"
          ],
          [
           "Yes",
           "Sun",
           "Dinner"
          ],
          [
           "No",
           "Sun",
           "Dinner"
          ],
          [
           "Yes",
           "Sun",
           "Dinner"
          ],
          [
           "Yes",
           "Sun",
           "Dinner"
          ],
          [
           "Yes",
           "Sun",
           "Dinner"
          ],
          [
           "Yes",
           "Thur",
           "Lunch"
          ],
          [
           "Yes",
           "Thur",
           "Lunch"
          ],
          [
           "Yes",
           "Thur",
           "Lunch"
          ],
          [
           "No",
           "Thur",
           "Lunch"
          ],
          [
           "Yes",
           "Thur",
           "Lunch"
          ],
          [
           "Yes",
           "Thur",
           "Lunch"
          ],
          [
           "Yes",
           "Thur",
           "Lunch"
          ],
          [
           "Yes",
           "Thur",
           "Lunch"
          ],
          [
           "Yes",
           "Sat",
           "Dinner"
          ],
          [
           "Yes",
           "Sat",
           "Dinner"
          ],
          [
           "Yes",
           "Sat",
           "Dinner"
          ],
          [
           "Yes",
           "Sat",
           "Dinner"
          ],
          [
           "Yes",
           "Sat",
           "Dinner"
          ],
          [
           "No",
           "Sat",
           "Dinner"
          ],
          [
           "Yes",
           "Sat",
           "Dinner"
          ],
          [
           "Yes",
           "Sat",
           "Dinner"
          ],
          [
           "Yes",
           "Sat",
           "Dinner"
          ],
          [
           "Yes",
           "Fri",
           "Lunch"
          ],
          [
           "Yes",
           "Fri",
           "Lunch"
          ],
          [
           "Yes",
           "Fri",
           "Lunch"
          ],
          [
           "No",
           "Sat",
           "Dinner"
          ],
          [
           "No",
           "Sat",
           "Dinner"
          ],
          [
           "Yes",
           "Sat",
           "Dinner"
          ],
          [
           "Yes",
           "Sat",
           "Dinner"
          ],
          [
           "No",
           "Sat",
           "Dinner"
          ],
          [
           "No",
           "Sat",
           "Dinner"
          ],
          [
           "Yes",
           "Sat",
           "Dinner"
          ],
          [
           "No",
           "Sat",
           "Dinner"
          ],
          [
           "Yes",
           "Sat",
           "Dinner"
          ],
          [
           "Yes",
           "Sat",
           "Dinner"
          ],
          [
           "No",
           "Sat",
           "Dinner"
          ],
          [
           "Yes",
           "Sat",
           "Dinner"
          ],
          [
           "No",
           "Sat",
           "Dinner"
          ]
         ],
         "hovertemplate": "sex=Male<br>Total Bill ($)=%{x}<br>Tip ($)=%{y}<br>size=%{marker.size}<br>smoker=%{customdata[0]}<br>day=%{customdata[1]}<br>time=%{customdata[2]}<extra></extra>",
         "legendgroup": "Male",
         "marker": {
          "color": "#EF553B",
          "size": [
           3,
           3,
           2,
           4,
           2,
           4,
           2,
           2,
           2,
           2,
           4,
           2,
           3,
           3,
           2,
           4,
           2,
           4,
           2,
           2,
           2,
           2,
           4,
           2,
           3,
           3,
           3,
           3,
           3,
           2,
           2,
           2,
           4,
           2,
           2,
           4,
           3,
           2,
           2,
           2,
           4,
           2,
           4,
           2,
           4,
           2,
           2,
           2,
           4,
           3,
           3,
           2,
           2,
           2,
           2,
           2,
           4,
           2,
           2,
           2,
           2,
           2,
           2,
           2,
           2,
           2,
           2,
           2,
           2,
           4,
           2,
           2,
           2,
           2,
           2,
           2,
           2,
           2,
           2,
           3,
           2,
           4,
           2,
           2,
           2,
           2,
           3,
           2,
           2,
           6,
           5,
           2,
           2,
           2,
           2,
           3,
           4,
           4,
           6,
           4,
           4,
           2,
           2,
           3,
           2,
           4,
           3,
           2,
           2,
           2,
           2,
           2,
           2,
           2,
           2,
           4,
           2,
           3,
           4,
           2,
           5,
           5,
           3,
           2,
           2,
           2,
           2,
           2,
           2,
           2,
           3,
           4,
           3,
           4,
           2,
           3,
           4,
           4,
           5,
           2,
           2,
           2,
           1,
           2,
           4,
           2,
           4,
           3,
           2,
           2,
           2,
           2,
           2,
           2,
           3,
           2,
           2
          ],
          "sizemode": "area",
          "sizeref": 0.015,
          "symbol": "circle"
         },
         "mode": "markers",
         "name": "Male",
         "orientation": "v",
         "showlegend": true,
         "type": "scatter",
         "x": [
          10.34,
          21.01,
          23.68,
          25.29,
          8.77,
          26.88,
          15.04,
          14.78,
          10.27,
          15.42,
          18.43,
          21.58,
          16.29,
          20.65,
          17.92,
          39.42,
          19.82,
          17.81,
          13.37,
          12.69,
          21.7,
          9.55,
          18.35,
          17.78,
          24.06,
          16.31,
          18.69,
          31.27,
          16.04,
          17.46,
          13.94,
          9.68,
          30.4,
          18.29,
          22.23,
          32.4,
          28.55,
          18.04,
          12.54,
          9.94,
          25.56,
          19.49,
          38.01,
          11.24,
          48.27,
          20.29,
          13.81,
          11.02,
          18.29,
          17.59,
          20.08,
          20.23,
          15.01,
          12.02,
          10.51,
          17.92,
          27.2,
          22.76,
          17.29,
          19.44,
          16.66,
          32.68,
          15.98,
          13.03,
          18.28,
          24.71,
          21.16,
          28.97,
          22.49,
          40.17,
          27.28,
          12.03,
          21.01,
          12.46,
          15.36,
          20.49,
          25.21,
          18.24,
          14,
          38.07,
          23.95,
          29.93,
          11.69,
          14.26,
          15.95,
          8.52,
          22.82,
          19.08,
          16,
          34.3,
          41.19,
          9.78,
          7.51,
          14.07,
          13.13,
          17.26,
          24.55,
          19.77,
          48.17,
          16.49,
          21.5,
          12.66,
          13.81,
          24.52,
          20.76,
          31.71,
          50.81,
          15.81,
          7.25,
          31.85,
          16.82,
          32.9,
          17.89,
          14.48,
          34.63,
          34.65,
          23.33,
          45.35,
          23.17,
          40.55,
          20.69,
          30.46,
          23.1,
          15.69,
          28.44,
          15.48,
          16.58,
          7.56,
          10.34,
          13.51,
          18.71,
          20.53,
          26.59,
          38.73,
          24.27,
          30.06,
          25.89,
          48.33,
          28.15,
          11.59,
          7.74,
          12.16,
          8.58,
          13.42,
          20.45,
          13.28,
          24.01,
          15.69,
          11.61,
          10.77,
          15.53,
          10.07,
          12.6,
          32.83,
          29.03,
          22.67,
          17.82
         ],
         "xaxis": "x",
         "y": [
          1.66,
          3.5,
          3.31,
          4.71,
          2,
          3.12,
          1.96,
          3.23,
          1.71,
          1.57,
          3,
          3.92,
          3.71,
          3.35,
          4.08,
          7.58,
          3.18,
          2.34,
          2,
          2,
          4.3,
          1.45,
          2.5,
          3.27,
          3.6,
          2,
          2.31,
          5,
          2.24,
          2.54,
          3.06,
          1.32,
          5.6,
          3,
          5,
          6,
          2.05,
          3,
          2.5,
          1.56,
          4.34,
          3.51,
          3,
          1.76,
          6.73,
          3.21,
          2,
          1.98,
          3.76,
          2.64,
          3.15,
          2.01,
          2.09,
          1.97,
          1.25,
          3.08,
          4,
          3,
          2.71,
          3,
          3.4,
          5,
          2.03,
          2,
          4,
          5.85,
          3,
          3,
          3.5,
          4.73,
          4,
          1.5,
          3,
          1.5,
          1.64,
          4.06,
          4.29,
          3.76,
          3,
          4,
          2.55,
          5.07,
          2.31,
          2.5,
          2,
          1.48,
          2.18,
          1.5,
          2,
          6.7,
          5,
          1.73,
          2,
          2.5,
          2,
          2.74,
          2,
          2,
          5,
          2,
          3.5,
          2.5,
          2,
          3.48,
          2.24,
          4.5,
          10,
          3.16,
          5.15,
          3.18,
          4,
          3.11,
          2,
          2,
          3.55,
          3.68,
          5.65,
          3.5,
          6.5,
          3,
          5,
          2,
          4,
          1.5,
          2.56,
          2.02,
          4,
          1.44,
          2,
          2,
          4,
          4,
          3.41,
          3,
          2.03,
          2,
          5.16,
          9,
          3,
          1.5,
          1.44,
          2.2,
          1.92,
          1.58,
          3,
          2.72,
          2,
          3,
          3.39,
          1.47,
          3,
          1.25,
          1,
          1.17,
          5.92,
          2,
          1.75
         ],
         "yaxis": "y"
        }
       ],
       "layout": {
        "legend": {
         "itemsizing": "constant",
         "title": {
          "text": "sex"
         },
         "tracegroupgap": 0
        },
        "template": {
         "data": {
          "bar": [
           {
            "error_x": {
             "color": "#2a3f5f"
            },
            "error_y": {
             "color": "#2a3f5f"
            },
            "marker": {
             "line": {
              "color": "#E5ECF6",
              "width": 0.5
             },
             "pattern": {
              "fillmode": "overlay",
              "size": 10,
              "solidity": 0.2
             }
            },
            "type": "bar"
           }
          ],
          "barpolar": [
           {
            "marker": {
             "line": {
              "color": "#E5ECF6",
              "width": 0.5
             },
             "pattern": {
              "fillmode": "overlay",
              "size": 10,
              "solidity": 0.2
             }
            },
            "type": "barpolar"
           }
          ],
          "carpet": [
           {
            "aaxis": {
             "endlinecolor": "#2a3f5f",
             "gridcolor": "white",
             "linecolor": "white",
             "minorgridcolor": "white",
             "startlinecolor": "#2a3f5f"
            },
            "baxis": {
             "endlinecolor": "#2a3f5f",
             "gridcolor": "white",
             "linecolor": "white",
             "minorgridcolor": "white",
             "startlinecolor": "#2a3f5f"
            },
            "type": "carpet"
           }
          ],
          "choropleth": [
           {
            "colorbar": {
             "outlinewidth": 0,
             "ticks": ""
            },
            "type": "choropleth"
           }
          ],
          "contour": [
           {
            "colorbar": {
             "outlinewidth": 0,
             "ticks": ""
            },
            "colorscale": [
             [
              0,
              "#0d0887"
             ],
             [
              0.1111111111111111,
              "#46039f"
             ],
             [
              0.2222222222222222,
              "#7201a8"
             ],
             [
              0.3333333333333333,
              "#9c179e"
             ],
             [
              0.4444444444444444,
              "#bd3786"
             ],
             [
              0.5555555555555556,
              "#d8576b"
             ],
             [
              0.6666666666666666,
              "#ed7953"
             ],
             [
              0.7777777777777778,
              "#fb9f3a"
             ],
             [
              0.8888888888888888,
              "#fdca26"
             ],
             [
              1,
              "#f0f921"
             ]
            ],
            "type": "contour"
           }
          ],
          "contourcarpet": [
           {
            "colorbar": {
             "outlinewidth": 0,
             "ticks": ""
            },
            "type": "contourcarpet"
           }
          ],
          "heatmap": [
           {
            "colorbar": {
             "outlinewidth": 0,
             "ticks": ""
            },
            "colorscale": [
             [
              0,
              "#0d0887"
             ],
             [
              0.1111111111111111,
              "#46039f"
             ],
             [
              0.2222222222222222,
              "#7201a8"
             ],
             [
              0.3333333333333333,
              "#9c179e"
             ],
             [
              0.4444444444444444,
              "#bd3786"
             ],
             [
              0.5555555555555556,
              "#d8576b"
             ],
             [
              0.6666666666666666,
              "#ed7953"
             ],
             [
              0.7777777777777778,
              "#fb9f3a"
             ],
             [
              0.8888888888888888,
              "#fdca26"
             ],
             [
              1,
              "#f0f921"
             ]
            ],
            "type": "heatmap"
           }
          ],
          "heatmapgl": [
           {
            "colorbar": {
             "outlinewidth": 0,
             "ticks": ""
            },
            "colorscale": [
             [
              0,
              "#0d0887"
             ],
             [
              0.1111111111111111,
              "#46039f"
             ],
             [
              0.2222222222222222,
              "#7201a8"
             ],
             [
              0.3333333333333333,
              "#9c179e"
             ],
             [
              0.4444444444444444,
              "#bd3786"
             ],
             [
              0.5555555555555556,
              "#d8576b"
             ],
             [
              0.6666666666666666,
              "#ed7953"
             ],
             [
              0.7777777777777778,
              "#fb9f3a"
             ],
             [
              0.8888888888888888,
              "#fdca26"
             ],
             [
              1,
              "#f0f921"
             ]
            ],
            "type": "heatmapgl"
           }
          ],
          "histogram": [
           {
            "marker": {
             "pattern": {
              "fillmode": "overlay",
              "size": 10,
              "solidity": 0.2
             }
            },
            "type": "histogram"
           }
          ],
          "histogram2d": [
           {
            "colorbar": {
             "outlinewidth": 0,
             "ticks": ""
            },
            "colorscale": [
             [
              0,
              "#0d0887"
             ],
             [
              0.1111111111111111,
              "#46039f"
             ],
             [
              0.2222222222222222,
              "#7201a8"
             ],
             [
              0.3333333333333333,
              "#9c179e"
             ],
             [
              0.4444444444444444,
              "#bd3786"
             ],
             [
              0.5555555555555556,
              "#d8576b"
             ],
             [
              0.6666666666666666,
              "#ed7953"
             ],
             [
              0.7777777777777778,
              "#fb9f3a"
             ],
             [
              0.8888888888888888,
              "#fdca26"
             ],
             [
              1,
              "#f0f921"
             ]
            ],
            "type": "histogram2d"
           }
          ],
          "histogram2dcontour": [
           {
            "colorbar": {
             "outlinewidth": 0,
             "ticks": ""
            },
            "colorscale": [
             [
              0,
              "#0d0887"
             ],
             [
              0.1111111111111111,
              "#46039f"
             ],
             [
              0.2222222222222222,
              "#7201a8"
             ],
             [
              0.3333333333333333,
              "#9c179e"
             ],
             [
              0.4444444444444444,
              "#bd3786"
             ],
             [
              0.5555555555555556,
              "#d8576b"
             ],
             [
              0.6666666666666666,
              "#ed7953"
             ],
             [
              0.7777777777777778,
              "#fb9f3a"
             ],
             [
              0.8888888888888888,
              "#fdca26"
             ],
             [
              1,
              "#f0f921"
             ]
            ],
            "type": "histogram2dcontour"
           }
          ],
          "mesh3d": [
           {
            "colorbar": {
             "outlinewidth": 0,
             "ticks": ""
            },
            "type": "mesh3d"
           }
          ],
          "parcoords": [
           {
            "line": {
             "colorbar": {
              "outlinewidth": 0,
              "ticks": ""
             }
            },
            "type": "parcoords"
           }
          ],
          "pie": [
           {
            "automargin": true,
            "type": "pie"
           }
          ],
          "scatter": [
           {
            "fillpattern": {
             "fillmode": "overlay",
             "size": 10,
             "solidity": 0.2
            },
            "type": "scatter"
           }
          ],
          "scatter3d": [
           {
            "line": {
             "colorbar": {
              "outlinewidth": 0,
              "ticks": ""
             }
            },
            "marker": {
             "colorbar": {
              "outlinewidth": 0,
              "ticks": ""
             }
            },
            "type": "scatter3d"
           }
          ],
          "scattercarpet": [
           {
            "marker": {
             "colorbar": {
              "outlinewidth": 0,
              "ticks": ""
             }
            },
            "type": "scattercarpet"
           }
          ],
          "scattergeo": [
           {
            "marker": {
             "colorbar": {
              "outlinewidth": 0,
              "ticks": ""
             }
            },
            "type": "scattergeo"
           }
          ],
          "scattergl": [
           {
            "marker": {
             "colorbar": {
              "outlinewidth": 0,
              "ticks": ""
             }
            },
            "type": "scattergl"
           }
          ],
          "scattermapbox": [
           {
            "marker": {
             "colorbar": {
              "outlinewidth": 0,
              "ticks": ""
             }
            },
            "type": "scattermapbox"
           }
          ],
          "scatterpolar": [
           {
            "marker": {
             "colorbar": {
              "outlinewidth": 0,
              "ticks": ""
             }
            },
            "type": "scatterpolar"
           }
          ],
          "scatterpolargl": [
           {
            "marker": {
             "colorbar": {
              "outlinewidth": 0,
              "ticks": ""
             }
            },
            "type": "scatterpolargl"
           }
          ],
          "scatterternary": [
           {
            "marker": {
             "colorbar": {
              "outlinewidth": 0,
              "ticks": ""
             }
            },
            "type": "scatterternary"
           }
          ],
          "surface": [
           {
            "colorbar": {
             "outlinewidth": 0,
             "ticks": ""
            },
            "colorscale": [
             [
              0,
              "#0d0887"
             ],
             [
              0.1111111111111111,
              "#46039f"
             ],
             [
              0.2222222222222222,
              "#7201a8"
             ],
             [
              0.3333333333333333,
              "#9c179e"
             ],
             [
              0.4444444444444444,
              "#bd3786"
             ],
             [
              0.5555555555555556,
              "#d8576b"
             ],
             [
              0.6666666666666666,
              "#ed7953"
             ],
             [
              0.7777777777777778,
              "#fb9f3a"
             ],
             [
              0.8888888888888888,
              "#fdca26"
             ],
             [
              1,
              "#f0f921"
             ]
            ],
            "type": "surface"
           }
          ],
          "table": [
           {
            "cells": {
             "fill": {
              "color": "#EBF0F8"
             },
             "line": {
              "color": "white"
             }
            },
            "header": {
             "fill": {
              "color": "#C8D4E3"
             },
             "line": {
              "color": "white"
             }
            },
            "type": "table"
           }
          ]
         },
         "layout": {
          "annotationdefaults": {
           "arrowcolor": "#2a3f5f",
           "arrowhead": 0,
           "arrowwidth": 1
          },
          "autotypenumbers": "strict",
          "coloraxis": {
           "colorbar": {
            "outlinewidth": 0,
            "ticks": ""
           }
          },
          "colorscale": {
           "diverging": [
            [
             0,
             "#8e0152"
            ],
            [
             0.1,
             "#c51b7d"
            ],
            [
             0.2,
             "#de77ae"
            ],
            [
             0.3,
             "#f1b6da"
            ],
            [
             0.4,
             "#fde0ef"
            ],
            [
             0.5,
             "#f7f7f7"
            ],
            [
             0.6,
             "#e6f5d0"
            ],
            [
             0.7,
             "#b8e186"
            ],
            [
             0.8,
             "#7fbc41"
            ],
            [
             0.9,
             "#4d9221"
            ],
            [
             1,
             "#276419"
            ]
           ],
           "sequential": [
            [
             0,
             "#0d0887"
            ],
            [
             0.1111111111111111,
             "#46039f"
            ],
            [
             0.2222222222222222,
             "#7201a8"
            ],
            [
             0.3333333333333333,
             "#9c179e"
            ],
            [
             0.4444444444444444,
             "#bd3786"
            ],
            [
             0.5555555555555556,
             "#d8576b"
            ],
            [
             0.6666666666666666,
             "#ed7953"
            ],
            [
             0.7777777777777778,
             "#fb9f3a"
            ],
            [
             0.8888888888888888,
             "#fdca26"
            ],
            [
             1,
             "#f0f921"
            ]
           ],
           "sequentialminus": [
            [
             0,
             "#0d0887"
            ],
            [
             0.1111111111111111,
             "#46039f"
            ],
            [
             0.2222222222222222,
             "#7201a8"
            ],
            [
             0.3333333333333333,
             "#9c179e"
            ],
            [
             0.4444444444444444,
             "#bd3786"
            ],
            [
             0.5555555555555556,
             "#d8576b"
            ],
            [
             0.6666666666666666,
             "#ed7953"
            ],
            [
             0.7777777777777778,
             "#fb9f3a"
            ],
            [
             0.8888888888888888,
             "#fdca26"
            ],
            [
             1,
             "#f0f921"
            ]
           ]
          },
          "colorway": [
           "#636efa",
           "#EF553B",
           "#00cc96",
           "#ab63fa",
           "#FFA15A",
           "#19d3f3",
           "#FF6692",
           "#B6E880",
           "#FF97FF",
           "#FECB52"
          ],
          "font": {
           "color": "#2a3f5f"
          },
          "geo": {
           "bgcolor": "white",
           "lakecolor": "white",
           "landcolor": "#E5ECF6",
           "showlakes": true,
           "showland": true,
           "subunitcolor": "white"
          },
          "hoverlabel": {
           "align": "left"
          },
          "hovermode": "closest",
          "mapbox": {
           "style": "light"
          },
          "paper_bgcolor": "white",
          "plot_bgcolor": "#E5ECF6",
          "polar": {
           "angularaxis": {
            "gridcolor": "white",
            "linecolor": "white",
            "ticks": ""
           },
           "bgcolor": "#E5ECF6",
           "radialaxis": {
            "gridcolor": "white",
            "linecolor": "white",
            "ticks": ""
           }
          },
          "scene": {
           "xaxis": {
            "backgroundcolor": "#E5ECF6",
            "gridcolor": "white",
            "gridwidth": 2,
            "linecolor": "white",
            "showbackground": true,
            "ticks": "",
            "zerolinecolor": "white"
           },
           "yaxis": {
            "backgroundcolor": "#E5ECF6",
            "gridcolor": "white",
            "gridwidth": 2,
            "linecolor": "white",
            "showbackground": true,
            "ticks": "",
            "zerolinecolor": "white"
           },
           "zaxis": {
            "backgroundcolor": "#E5ECF6",
            "gridcolor": "white",
            "gridwidth": 2,
            "linecolor": "white",
            "showbackground": true,
            "ticks": "",
            "zerolinecolor": "white"
           }
          },
          "shapedefaults": {
           "line": {
            "color": "#2a3f5f"
           }
          },
          "ternary": {
           "aaxis": {
            "gridcolor": "white",
            "linecolor": "white",
            "ticks": ""
           },
           "baxis": {
            "gridcolor": "white",
            "linecolor": "white",
            "ticks": ""
           },
           "bgcolor": "#E5ECF6",
           "caxis": {
            "gridcolor": "white",
            "linecolor": "white",
            "ticks": ""
           }
          },
          "title": {
           "x": 0.05
          },
          "xaxis": {
           "automargin": true,
           "gridcolor": "white",
           "linecolor": "white",
           "ticks": "",
           "title": {
            "standoff": 15
           },
           "zerolinecolor": "white",
           "zerolinewidth": 2
          },
          "yaxis": {
           "automargin": true,
           "gridcolor": "white",
           "linecolor": "white",
           "ticks": "",
           "title": {
            "standoff": 15
           },
           "zerolinecolor": "white",
           "zerolinewidth": 2
          }
         }
        },
        "title": {
         "text": "Total Bill vs Tip Amount"
        },
        "xaxis": {
         "anchor": "y",
         "domain": [
          0,
          1
         ],
         "title": {
          "text": "Total Bill ($)"
         }
        },
        "yaxis": {
         "anchor": "x",
         "domain": [
          0,
          1
         ],
         "title": {
          "text": "Tip ($)"
         }
        }
       }
      },
      "image/png": "[encoded data removed]",
      "text/html": [
       "<div>                            <div id=\"ab088b43-e793-45cf-aa46-42676878e556\" class=\"plotly-graph-div\" style=\"height:525px; width:100%;\"></div>            <script type=\"text/javascript\">                require([\"plotly\"], function(Plotly) {                    window.PLOTLYENV=window.PLOTLYENV || {};                                    if (document.getElementById(\"ab088b43-e793-45cf-aa46-42676878e556\")) {                    Plotly.newPlot(                        \"ab088b43-e793-45cf-aa46-42676878e556\",                        [{\"customdata\":[[\"No\",\"Sun\",\"Dinner\"],[\"No\",\"Sun\",\"Dinner\"],[\"No\",\"Sun\",\"Dinner\"],[\"No\",\"Sun\",\"Dinner\"],[\"No\",\"Sun\",\"Dinner\"],[\"No\",\"Sun\",\"Dinner\"],[\"No\",\"Sat\",\"Dinner\"],[\"No\",\"Sat\",\"Dinner\"],[\"No\",\"Sat\",\"Dinner\"],[\"No\",\"Sat\",\"Dinner\"],[\"No\",\"Sat\",\"Dinner\"],[\"No\",\"Sat\",\"Dinner\"],[\"No\",\"Sun\",\"Dinner\"],[\"No\",\"Sun\",\"Dinner\"],[\"No\",\"Sat\",\"Dinner\"],[\"No\",\"Sat\",\"Dinner\"],[\"Yes\",\"Sat\",\"Dinner\"],[\"No\",\"Sat\",\"Dinner\"],[\"Yes\",\"Sat\",\"Dinner\"],[\"Yes\",\"Sat\",\"Dinner\"],[\"No\",\"Sat\",\"Dinner\"],[\"No\",\"Thur\",\"Lunch\"],[\"No\",\"Thur\",\"Lunch\"],[\"Yes\",\"Fri\",\"Dinner\"],[\"Yes\",\"Fri\",\"Dinner\"],[\"No\",\"Fri\",\"Dinner\"],[\"Yes\",\"Fri\",\"Dinner\"],[\"Yes\",\"Fri\",\"Dinner\"],[\"Yes\",\"Sat\",\"Dinner\"],[\"Yes\",\"Sat\",\"Dinner\"],[\"No\",\"Sat\",\"Dinner\"],[\"Yes\",\"Sat\",\"Dinner\"],[\"No\",\"Sat\",\"Dinner\"],[\"No\",\"Sun\",\"Dinner\"],[\"No\",\"Sun\",\"Dinner\"],[\"No\",\"Thur\",\"Lunch\"],[\"No\",\"Thur\",\"Lunch\"],[\"No\",\"Thur\",\"Lunch\"],[\"No\",\"Thur\",\"Lunch\"],[\"No\",\"Thur\",\"Lunch\"],[\"No\",\"Thur\",\"Lunch\"],[\"No\",\"Thur\",\"Lunch\"],[\"No\",\"Thur\",\"Lunch\"],[\"No\",\"Thur\",\"Lunch\"],[\"No\",\"Thur\",\"Lunch\"],[\"No\",\"Thur\",\"Lunch\"],[\"No\",\"Thur\",\"Lunch\"],[\"No\",\"Thur\",\"Lunch\"],[\"No\",\"Thur\",\"Lunch\"],[\"No\",\"Thur\",\"Lunch\"],[\"No\",\"Thur\",\"Lunch\"],[\"No\",\"Thur\",\"Lunch\"],[\"No\",\"Thur\",\"Lunch\"],[\"No\",\"Thur\",\"Lunch\"],[\"No\",\"Thur\",\"Lunch\"],[\"No\",\"Thur\",\"Lunch\"],[\"No\",\"Thur\",\"Lunch\"],[\"No\",\"Sun\",\"Dinner\"],[\"No\",\"Sun\",\"Dinner\"],[\"No\",\"Sun\",\"Dinner\"],[\"No\",\"Sun\",\"Dinner\"],[\"Yes\",\"Sun\",\"Dinner\"],[\"Yes\",\"Sat\",\"Dinner\"],[\"Yes\",\"Sat\",\"Dinner\"],[\"Yes\",\"Sun\",\"Dinner\"],[\"Yes\",\"Sun\",\"Dinner\"],[\"Yes\",\"Sun\",\"Dinner\"],[\"Yes\",\"Thur\",\"Lunch\"],[\"Yes\",\"Thur\",\"Lunch\"],[\"Yes\",\"Thur\",\"Lunch\"],[\"Yes\",\"Thur\",\"Lunch\"],[\"Yes\",\"Thur\",\"Lunch\"],[\"Yes\",\"Thur\",\"Lunch\"],[\"Yes\",\"Thur\",\"Lunch\"],[\"Yes\",\"Sat\",\"Dinner\"],[\"Yes\",\"Sat\",\"Dinner\"],[\"Yes\",\"Sat\",\"Dinner\"],[\"Yes\",\"Sat\",\"Dinner\"],[\"Yes\",\"Sat\",\"Dinner\"],[\"Yes\",\"Fri\",\"Lunch\"],[\"No\",\"Fri\",\"Lunch\"],[\"Yes\",\"Fri\",\"Lunch\"],[\"Yes\",\"Fri\",\"Lunch\"],[\"Yes\",\"Sat\",\"Dinner\"],[\"No\",\"Sat\",\"Dinner\"],[\"Yes\",\"Sat\",\"Dinner\"],[\"No\",\"Thur\",\"Dinner\"]],\"hovertemplate\":\"sex=Female\\u003cbr\\u003eTotal Bill ($)=%{x}\\u003cbr\\u003eTip ($)=%{y}\\u003cbr\\u003esize=%{marker.size}\\u003cbr\\u003esmoker=%{customdata[0]}\\u003cbr\\u003eday=%{customdata[1]}\\u003cbr\\u003etime=%{customdata[2]}\\u003cextra\\u003e\\u003c\\u002fextra\\u003e\",\"legendgroup\":\"Female\",\"marker\":{\"color\":\"#636efa\",\"size\":[2,4,4,2,3,3,2,2,2,2,4,3,2,4,2,2,1,3,2,2,2,1,4,2,2,2,2,2,3,2,2,2,1,3,2,2,2,4,2,2,6,2,2,2,2,2,2,2,2,2,2,2,6,2,2,3,2,5,4,2,3,2,2,2,2,3,3,2,4,2,2,2,2,3,2,2,3,2,4,2,3,2,2,2,3,2,2],\"sizemode\":\"area\",\"sizeref\":0.015,\"symbol\":\"circle\"},\"mode\":\"markers\",\"name\":\"Female\",\"orientation\":\"v\",\"showlegend\":true,\"x\":[16.99,24.59,35.26,14.83,10.33,16.97,20.29,15.77,19.65,15.06,20.69,16.93,10.29,34.81,26.41,16.45,3.07,17.07,26.86,25.28,14.73,10.07,34.83,5.75,16.32,22.75,11.35,15.38,44.3,22.42,20.92,14.31,7.25,25.71,17.31,10.65,12.43,24.08,13.42,12.48,29.8,14.52,11.38,20.27,11.17,12.26,18.26,8.51,10.33,14.15,13.16,17.47,27.05,16.43,8.35,18.64,11.87,29.85,25.0,13.39,16.21,17.51,10.59,10.63,9.6,20.9,18.15,19.81,43.11,13.0,12.74,13.0,16.4,16.47,12.76,13.27,28.17,12.9,30.14,13.42,15.98,16.27,10.09,22.12,35.83,27.18,18.78],\"xaxis\":\"x\",\"y\":[1.01,3.61,5.0,3.02,1.67,3.5,2.75,2.23,3.0,3.0,2.45,3.07,2.6,5.2,1.5,2.47,1.0,3.0,3.14,5.0,2.2,1.83,5.17,1.0,4.3,3.25,2.5,3.0,2.5,3.48,4.08,4.0,1.0,4.0,3.5,1.5,1.8,2.92,1.68,2.52,4.2,2.0,2.0,2.83,1.5,2.0,3.25,1.25,2.0,2.0,2.75,3.5,5.0,2.3,1.5,1.36,1.63,5.14,3.75,2.61,2.0,3.0,1.61,2.0,4.0,3.5,3.5,4.19,5.0,2.0,2.01,2.0,2.5,3.23,2.23,2.5,6.5,1.1,3.09,3.48,3.0,2.5,2.0,2.88,4.67,2.0,3.0],\"yaxis\":\"y\",\"type\":\"scatter\"},{\"customdata\":[[\"No\",\"Sun\",\"Dinner\"],[\"No\",\"Sun\",\"Dinner\"],[\"No\",\"Sun\",\"Dinner\"],[\"No\",\"Sun\",\"Dinner\"],[\"No\",\"Sun\",\"Dinner\"],[\"No\",\"Sun\",\"Dinner\"],[\"No\",\"Sun\",\"Dinner\"],[\"No\",\"Sun\",\"Dinner\"],[\"No\",\"Sun\",\"Dinner\"],[\"No\",\"Sun\",\"Dinner\"],[\"No\",\"Sun\",\"Dinner\"],[\"No\",\"Sun\",\"Dinner\"],[\"No\",\"Sun\",\"Dinner\"],[\"No\",\"Sat\",\"Dinner\"],[\"No\",\"Sat\",\"Dinner\"],[\"No\",\"Sat\",\"Dinner\"],[\"No\",\"Sat\",\"Dinner\"],[\"No\",\"Sat\",\"Dinner\"],[\"No\",\"Sat\",\"Dinner\"],[\"No\",\"Sat\",\"Dinner\"],[\"No\",\"Sat\",\"Dinner\"],[\"No\",\"Sat\",\"Dinner\"],[\"No\",\"Sat\",\"Dinner\"],[\"No\",\"Sat\",\"Dinner\"],[\"No\",\"Sat\",\"Dinner\"],[\"No\",\"Sat\",\"Dinner\"],[\"No\",\"Sat\",\"Dinner\"],[\"No\",\"Sat\",\"Dinner\"],[\"No\",\"Sat\",\"Dinner\"],[\"No\",\"Sun\",\"Dinner\"],[\"No\",\"Sun\",\"Dinner\"],[\"No\",\"Sun\",\"Dinner\"],[\"No\",\"Sun\",\"Dinner\"],[\"No\",\"Sun\",\"Dinner\"],[\"No\",\"Sun\",\"Dinner\"],[\"No\",\"Sun\",\"Dinner\"],[\"No\",\"Sun\",\"Dinner\"],[\"No\",\"Sun\",\"Dinner\"],[\"No\",\"Sun\",\"Dinner\"],[\"No\",\"Sun\",\"Dinner\"],[\"No\",\"Sun\",\"Dinner\"],[\"No\",\"Sun\",\"Dinner\"],[\"Yes\",\"Sat\",\"Dinner\"],[\"Yes\",\"Sat\",\"Dinner\"],[\"No\",\"Sat\",\"Dinner\"],[\"Yes\",\"Sat\",\"Dinner\"],[\"Yes\",\"Sat\",\"Dinner\"],[\"Yes\",\"Sat\",\"Dinner\"],[\"Yes\",\"Sat\",\"Dinner\"],[\"No\",\"Sat\",\"Dinner\"],[\"No\",\"Sat\",\"Dinner\"],[\"No\",\"Sat\",\"Dinner\"],[\"Yes\",\"Sat\",\"Dinner\"],[\"No\",\"Sat\",\"Dinner\"],[\"No\",\"Sat\",\"Dinner\"],[\"Yes\",\"Sat\",\"Dinner\"],[\"No\",\"Thur\",\"Lunch\"],[\"No\",\"Thur\",\"Lunch\"],[\"No\",\"Thur\",\"Lunch\"],[\"Yes\",\"Thur\",\"Lunch\"],[\"No\",\"Thur\",\"Lunch\"],[\"Yes\",\"Thur\",\"Lunch\"],[\"No\",\"Thur\",\"Lunch\"],[\"No\",\"Thur\",\"Lunch\"],[\"No\",\"Thur\",\"Lunch\"],[\"No\",\"Thur\",\"Lunch\"],[\"No\",\"Thur\",\"Lunch\"],[\"Yes\",\"Fri\",\"Dinner\"],[\"No\",\"Fri\",\"Dinner\"],[\"Yes\",\"Fri\",\"Dinner\"],[\"Yes\",\"Fri\",\"Dinner\"],[\"Yes\",\"Fri\",\"Dinner\"],[\"Yes\",\"Fri\",\"Dinner\"],[\"No\",\"Fri\",\"Dinner\"],[\"Yes\",\"Sat\",\"Dinner\"],[\"Yes\",\"Sat\",\"Dinner\"],[\"Yes\",\"Sat\",\"Dinner\"],[\"No\",\"Sat\",\"Dinner\"],[\"No\",\"Sat\",\"Dinner\"],[\"No\",\"Sun\",\"Dinner\"],[\"No\",\"Sun\",\"Dinner\"],[\"No\",\"Sun\",\"Dinner\"],[\"No\",\"Thur\",\"Lunch\"],[\"No\",\"Thur\",\"Lunch\"],[\"No\",\"Thur\",\"Lunch\"],[\"No\",\"Thur\",\"Lunch\"],[\"No\",\"Thur\",\"Lunch\"],[\"No\",\"Thur\",\"Lunch\"],[\"Yes\",\"Thur\",\"Lunch\"],[\"No\",\"Thur\",\"Lunch\"],[\"No\",\"Thur\",\"Lunch\"],[\"No\",\"Thur\",\"Lunch\"],[\"No\",\"Thur\",\"Lunch\"],[\"No\",\"Sun\",\"Dinner\"],[\"No\",\"Sun\",\"Dinner\"],[\"No\",\"Sun\",\"Dinner\"],[\"No\",\"Sun\",\"Dinner\"],[\"No\",\"Sun\",\"Dinner\"],[\"No\",\"Sun\",\"Dinner\"],[\"No\",\"Sun\",\"Dinner\"],[\"No\",\"Sun\",\"Dinner\"],[\"No\",\"Sun\",\"Dinner\"],[\"No\",\"Sun\",\"Dinner\"],[\"No\",\"Sun\",\"Dinner\"],[\"No\",\"Sun\",\"Dinner\"],[\"No\",\"Sun\",\"Dinner\"],[\"Yes\",\"Sat\",\"Dinner\"],[\"Yes\",\"Sat\",\"Dinner\"],[\"Yes\",\"Sun\",\"Dinner\"],[\"Yes\",\"Sun\",\"Dinner\"],[\"Yes\",\"Sun\",\"Dinner\"],[\"Yes\",\"Sun\",\"Dinner\"],[\"Yes\",\"Sun\",\"Dinner\"],[\"Yes\",\"Sun\",\"Dinner\"],[\"Yes\",\"Sun\",\"Dinner\"],[\"Yes\",\"Sun\",\"Dinner\"],[\"Yes\",\"Sun\",\"Dinner\"],[\"Yes\",\"Sun\",\"Dinner\"],[\"Yes\",\"Sun\",\"Dinner\"],[\"Yes\",\"Sun\",\"Dinner\"],[\"No\",\"Sun\",\"Dinner\"],[\"Yes\",\"Sun\",\"Dinner\"],[\"Yes\",\"Sun\",\"Dinner\"],[\"Yes\",\"Sun\",\"Dinner\"],[\"Yes\",\"Thur\",\"Lunch\"],[\"Yes\",\"Thur\",\"Lunch\"],[\"Yes\",\"Thur\",\"Lunch\"],[\"No\",\"Thur\",\"Lunch\"],[\"Yes\",\"Thur\",\"Lunch\"],[\"Yes\",\"Thur\",\"Lunch\"],[\"Yes\",\"Thur\",\"Lunch\"],[\"Yes\",\"Thur\",\"Lunch\"],[\"Yes\",\"Sat\",\"Dinner\"],[\"Yes\",\"Sat\",\"Dinner\"],[\"Yes\",\"Sat\",\"Dinner\"],[\"Yes\",\"Sat\",\"Dinner\"],[\"Yes\",\"Sat\",\"Dinner\"],[\"No\",\"Sat\",\"Dinner\"],[\"Yes\",\"Sat\",\"Dinner\"],[\"Yes\",\"Sat\",\"Dinner\"],[\"Yes\",\"Sat\",\"Dinner\"],[\"Yes\",\"Fri\",\"Lunch\"],[\"Yes\",\"Fri\",\"Lunch\"],[\"Yes\",\"Fri\",\"Lunch\"],[\"No\",\"Sat\",\"Dinner\"],[\"No\",\"Sat\",\"Dinner\"],[\"Yes\",\"Sat\",\"Dinner\"],[\"Yes\",\"Sat\",\"Dinner\"],[\"No\",\"Sat\",\"Dinner\"],[\"No\",\"Sat\",\"Dinner\"],[\"Yes\",\"Sat\",\"Dinner\"],[\"No\",\"Sat\",\"Dinner\"],[\"Yes\",\"Sat\",\"Dinner\"],[\"Yes\",\"Sat\",\"Dinner\"],[\"No\",\"Sat\",\"Dinner\"],[\"Yes\",\"Sat\",\"Dinner\"],[\"No\",\"Sat\",\"Dinner\"]],\"hovertemplate\":\"sex=Male\\u003cbr\\u003eTotal Bill ($)=%{x}\\u003cbr\\u003eTip ($)=%{y}\\u003cbr\\u003esize=%{marker.size}\\u003cbr\\u003esmoker=%{customdata[0]}\\u003cbr\\u003eday=%{customdata[1]}\\u003cbr\\u003etime=%{customdata[2]}\\u003cextra\\u003e\\u003c\\u002fextra\\u003e\",\"legendgroup\":\"Male\",\"marker\":{\"color\":\"#EF553B\",\"size\":[3,3,2,4,2,4,2,2,2,2,4,2,3,3,2,4,2,4,2,2,2,2,4,2,3,3,3,3,3,2,2,2,4,2,2,4,3,2,2,2,4,2,4,2,4,2,2,2,4,3,3,2,2,2,2,2,4,2,2,2,2,2,2,2,2,2,2,2,2,4,2,2,2,2,2,2,2,2,2,3,2,4,2,2,2,2,3,2,2,6,5,2,2,2,2,3,4,4,6,4,4,2,2,3,2,4,3,2,2,2,2,2,2,2,2,4,2,3,4,2,5,5,3,2,2,2,2,2,2,2,3,4,3,4,2,3,4,4,5,2,2,2,1,2,4,2,4,3,2,2,2,2,2,2,3,2,2],\"sizemode\":\"area\",\"sizeref\":0.015,\"symbol\":\"circle\"},\"mode\":\"markers\",\"name\":\"Male\",\"orientation\":\"v\",\"showlegend\":true,\"x\":[10.34,21.01,23.68,25.29,8.77,26.88,15.04,14.78,10.27,15.42,18.43,21.58,16.29,20.65,17.92,39.42,19.82,17.81,13.37,12.69,21.7,9.55,18.35,17.78,24.06,16.31,18.69,31.27,16.04,17.46,13.94,9.68,30.4,18.29,22.23,32.4,28.55,18.04,12.54,9.94,25.56,19.49,38.01,11.24,48.27,20.29,13.81,11.02,18.29,17.59,20.08,20.23,15.01,12.02,10.51,17.92,27.2,22.76,17.29,19.44,16.66,32.68,15.98,13.03,18.28,24.71,21.16,28.97,22.49,40.17,27.28,12.03,21.01,12.46,15.36,20.49,25.21,18.24,14.0,38.07,23.95,29.93,11.69,14.26,15.95,8.52,22.82,19.08,16.0,34.3,41.19,9.78,7.51,14.07,13.13,17.26,24.55,19.77,48.17,16.49,21.5,12.66,13.81,24.52,20.76,31.71,50.81,15.81,7.25,31.85,16.82,32.9,17.89,14.48,34.63,34.65,23.33,45.35,23.17,40.55,20.69,30.46,23.1,15.69,28.44,15.48,16.58,7.56,10.34,13.51,18.71,20.53,26.59,38.73,24.27,30.06,25.89,48.33,28.15,11.59,7.74,12.16,8.58,13.42,20.45,13.28,24.01,15.69,11.61,10.77,15.53,10.07,12.6,32.83,29.03,22.67,17.82],\"xaxis\":\"x\",\"y\":[1.66,3.5,3.31,4.71,2.0,3.12,1.96,3.23,1.71,1.57,3.0,3.92,3.71,3.35,4.08,7.58,3.18,2.34,2.0,2.0,4.3,1.45,2.5,3.27,3.6,2.0,2.31,5.0,2.24,2.54,3.06,1.32,5.6,3.0,5.0,6.0,2.05,3.0,2.5,1.56,4.34,3.51,3.0,1.76,6.73,3.21,2.0,1.98,3.76,2.64,3.15,2.01,2.09,1.97,1.25,3.08,4.0,3.0,2.71,3.0,3.4,5.0,2.03,2.0,4.0,5.85,3.0,3.0,3.5,4.73,4.0,1.5,3.0,1.5,1.64,4.06,4.29,3.76,3.0,4.0,2.55,5.07,2.31,2.5,2.0,1.48,2.18,1.5,2.0,6.7,5.0,1.73,2.0,2.5,2.0,2.74,2.0,2.0,5.0,2.0,3.5,2.5,2.0,3.48,2.24,4.5,10.0,3.16,5.15,3.18,4.0,3.11,2.0,2.0,3.55,3.68,5.65,3.5,6.5,3.0,5.0,2.0,4.0,1.5,2.56,2.02,4.0,1.44,2.0,2.0,4.0,4.0,3.41,3.0,2.03,2.0,5.16,9.0,3.0,1.5,1.44,2.2,1.92,1.58,3.0,2.72,2.0,3.0,3.39,1.47,3.0,1.25,1.0,1.17,5.92,2.0,1.75],\"yaxis\":\"y\",\"type\":\"scatter\"}],                        {\"template\":{\"data\":{\"histogram2dcontour\":[{\"type\":\"histogram2dcontour\",\"colorbar\":{\"outlinewidth\":0,\"ticks\":\"\"},\"colorscale\":[[0.0,\"#0d0887\"],[0.1111111111111111,\"#46039f\"],[0.2222222222222222,\"#7201a8\"],[0.3333333333333333,\"#9c179e\"],[0.4444444444444444,\"#bd3786\"],[0.5555555555555556,\"#d8576b\"],[0.6666666666666666,\"#ed7953\"],[0.7777777777777778,\"#fb9f3a\"],[0.8888888888888888,\"#fdca26\"],[1.0,\"#f0f921\"]]}],\"choropleth\":[{\"type\":\"choropleth\",\"colorbar\":{\"outlinewidth\":0,\"ticks\":\"\"}}],\"histogram2d\":[{\"type\":\"histogram2d\",\"colorbar\":{\"outlinewidth\":0,\"ticks\":\"\"},\"colorscale\":[[0.0,\"#0d0887\"],[0.1111111111111111,\"#46039f\"],[0.2222222222222222,\"#7201a8\"],[0.3333333333333333,\"#9c179e\"],[0.4444444444444444,\"#bd3786\"],[0.5555555555555556,\"#d8576b\"],[0.6666666666666666,\"#ed7953\"],[0.7777777777777778,\"#fb9f3a\"],[0.8888888888888888,\"#fdca26\"],[1.0,\"#f0f921\"]]}],\"heatmap\":[{\"type\":\"heatmap\",\"colorbar\":{\"outlinewidth\":0,\"ticks\":\"\"},\"colorscale\":[[0.0,\"#0d0887\"],[0.1111111111111111,\"#46039f\"],[0.2222222222222222,\"#7201a8\"],[0.3333333333333333,\"#9c179e\"],[0.4444444444444444,\"#bd3786\"],[0.5555555555555556,\"#d8576b\"],[0.6666666666666666,\"#ed7953\"],[0.7777777777777778,\"#fb9f3a\"],[0.8888888888888888,\"#fdca26\"],[1.0,\"#f0f921\"]]}],\"heatmapgl\":[{\"type\":\"heatmapgl\",\"colorbar\":{\"outlinewidth\":0,\"ticks\":\"\"},\"colorscale\":[[0.0,\"#0d0887\"],[0.1111111111111111,\"#46039f\"],[0.2222222222222222,\"#7201a8\"],[0.3333333333333333,\"#9c179e\"],[0.4444444444444444,\"#bd3786\"],[0.5555555555555556,\"#d8576b\"],[0.6666666666666666,\"#ed7953\"],[0.7777777777777778,\"#fb9f3a\"],[0.8888888888888888,\"#fdca26\"],[1.0,\"#f0f921\"]]}],\"contourcarpet\":[{\"type\":\"contourcarpet\",\"colorbar\":{\"outlinewidth\":0,\"ticks\":\"\"}}],\"contour\":[{\"type\":\"contour\",\"colorbar\":{\"outlinewidth\":0,\"ticks\":\"\"},\"colorscale\":[[0.0,\"#0d0887\"],[0.1111111111111111,\"#46039f\"],[0.2222222222222222,\"#7201a8\"],[0.3333333333333333,\"#9c179e\"],[0.4444444444444444,\"#bd3786\"],[0.5555555555555556,\"#d8576b\"],[0.6666666666666666,\"#ed7953\"],[0.7777777777777778,\"#fb9f3a\"],[0.8888888888888888,\"#fdca26\"],[1.0,\"#f0f921\"]]}],\"surface\":[{\"type\":\"surface\",\"colorbar\":{\"outlinewidth\":0,\"ticks\":\"\"},\"colorscale\":[[0.0,\"#0d0887\"],[0.1111111111111111,\"#46039f\"],[0.2222222222222222,\"#7201a8\"],[0.3333333333333333,\"#9c179e\"],[0.4444444444444444,\"#bd3786\"],[0.5555555555555556,\"#d8576b\"],[0.6666666666666666,\"#ed7953\"],[0.7777777777777778,\"#fb9f3a\"],[0.8888888888888888,\"#fdca26\"],[1.0,\"#f0f921\"]]}],\"mesh3d\":[{\"type\":\"mesh3d\",\"colorbar\":{\"outlinewidth\":0,\"ticks\":\"\"}}],\"scatter\":[{\"fillpattern\":{\"fillmode\":\"overlay\",\"size\":10,\"solidity\":0.2},\"type\":\"scatter\"}],\"parcoords\":[{\"type\":\"parcoords\",\"line\":{\"colorbar\":{\"outlinewidth\":0,\"ticks\":\"\"}}}],\"scatterpolargl\":[{\"type\":\"scatterpolargl\",\"marker\":{\"colorbar\":{\"outlinewidth\":0,\"ticks\":\"\"}}}],\"bar\":[{\"error_x\":{\"color\":\"#2a3f5f\"},\"error_y\":{\"color\":\"#2a3f5f\"},\"marker\":{\"line\":{\"color\":\"#E5ECF6\",\"width\":0.5},\"pattern\":{\"fillmode\":\"overlay\",\"size\":10,\"solidity\":0.2}},\"type\":\"bar\"}],\"scattergeo\":[{\"type\":\"scattergeo\",\"marker\":{\"colorbar\":{\"outlinewidth\":0,\"ticks\":\"\"}}}],\"scatterpolar\":[{\"type\":\"scatterpolar\",\"marker\":{\"colorbar\":{\"outlinewidth\":0,\"ticks\":\"\"}}}],\"histogram\":[{\"marker\":{\"pattern\":{\"fillmode\":\"overlay\",\"size\":10,\"solidity\":0.2}},\"type\":\"histogram\"}],\"scattergl\":[{\"type\":\"scattergl\",\"marker\":{\"colorbar\":{\"outlinewidth\":0,\"ticks\":\"\"}}}],\"scatter3d\":[{\"type\":\"scatter3d\",\"line\":{\"colorbar\":{\"outlinewidth\":0,\"ticks\":\"\"}},\"marker\":{\"colorbar\":{\"outlinewidth\":0,\"ticks\":\"\"}}}],\"scattermapbox\":[{\"type\":\"scattermapbox\",\"marker\":{\"colorbar\":{\"outlinewidth\":0,\"ticks\":\"\"}}}],\"scatterternary\":[{\"type\":\"scatterternary\",\"marker\":{\"colorbar\":{\"outlinewidth\":0,\"ticks\":\"\"}}}],\"scattercarpet\":[{\"type\":\"scattercarpet\",\"marker\":{\"colorbar\":{\"outlinewidth\":0,\"ticks\":\"\"}}}],\"carpet\":[{\"aaxis\":{\"endlinecolor\":\"#2a3f5f\",\"gridcolor\":\"white\",\"linecolor\":\"white\",\"minorgridcolor\":\"white\",\"startlinecolor\":\"#2a3f5f\"},\"baxis\":{\"endlinecolor\":\"#2a3f5f\",\"gridcolor\":\"white\",\"linecolor\":\"white\",\"minorgridcolor\":\"white\",\"startlinecolor\":\"#2a3f5f\"},\"type\":\"carpet\"}],\"table\":[{\"cells\":{\"fill\":{\"color\":\"#EBF0F8\"},\"line\":{\"color\":\"white\"}},\"header\":{\"fill\":{\"color\":\"#C8D4E3\"},\"line\":{\"color\":\"white\"}},\"type\":\"table\"}],\"barpolar\":[{\"marker\":{\"line\":{\"color\":\"#E5ECF6\",\"width\":0.5},\"pattern\":{\"fillmode\":\"overlay\",\"size\":10,\"solidity\":0.2}},\"type\":\"barpolar\"}],\"pie\":[{\"automargin\":true,\"type\":\"pie\"}]},\"layout\":{\"autotypenumbers\":\"strict\",\"colorway\":[\"#636efa\",\"#EF553B\",\"#00cc96\",\"#ab63fa\",\"#FFA15A\",\"#19d3f3\",\"#FF6692\",\"#B6E880\",\"#FF97FF\",\"#FECB52\"],\"font\":{\"color\":\"#2a3f5f\"},\"hovermode\":\"closest\",\"hoverlabel\":{\"align\":\"left\"},\"paper_bgcolor\":\"white\",\"plot_bgcolor\":\"#E5ECF6\",\"polar\":{\"bgcolor\":\"#E5ECF6\",\"angularaxis\":{\"gridcolor\":\"white\",\"linecolor\":\"white\",\"ticks\":\"\"},\"radialaxis\":{\"gridcolor\":\"white\",\"linecolor\":\"white\",\"ticks\":\"\"}},\"ternary\":{\"bgcolor\":\"#E5ECF6\",\"aaxis\":{\"gridcolor\":\"white\",\"linecolor\":\"white\",\"ticks\":\"\"},\"baxis\":{\"gridcolor\":\"white\",\"linecolor\":\"white\",\"ticks\":\"\"},\"caxis\":{\"gridcolor\":\"white\",\"linecolor\":\"white\",\"ticks\":\"\"}},\"coloraxis\":{\"colorbar\":{\"outlinewidth\":0,\"ticks\":\"\"}},\"colorscale\":{\"sequential\":[[0.0,\"#0d0887\"],[0.1111111111111111,\"#46039f\"],[0.2222222222222222,\"#7201a8\"],[0.3333333333333333,\"#9c179e\"],[0.4444444444444444,\"#bd3786\"],[0.5555555555555556,\"#d8576b\"],[0.6666666666666666,\"#ed7953\"],[0.7777777777777778,\"#fb9f3a\"],[0.8888888888888888,\"#fdca26\"],[1.0,\"#f0f921\"]],\"sequentialminus\":[[0.0,\"#0d0887\"],[0.1111111111111111,\"#46039f\"],[0.2222222222222222,\"#7201a8\"],[0.3333333333333333,\"#9c179e\"],[0.4444444444444444,\"#bd3786\"],[0.5555555555555556,\"#d8576b\"],[0.6666666666666666,\"#ed7953\"],[0.7777777777777778,\"#fb9f3a\"],[0.8888888888888888,\"#fdca26\"],[1.0,\"#f0f921\"]],\"diverging\":[[0,\"#8e0152\"],[0.1,\"#c51b7d\"],[0.2,\"#de77ae\"],[0.3,\"#f1b6da\"],[0.4,\"#fde0ef\"],[0.5,\"#f7f7f7\"],[0.6,\"#e6f5d0\"],[0.7,\"#b8e186\"],[0.8,\"#7fbc41\"],[0.9,\"#4d9221\"],[1,\"#276419\"]]},\"xaxis\":{\"gridcolor\":\"white\",\"linecolor\":\"white\",\"ticks\":\"\",\"title\":{\"standoff\":15},\"zerolinecolor\":\"white\",\"automargin\":true,\"zerolinewidth\":2},\"yaxis\":{\"gridcolor\":\"white\",\"linecolor\":\"white\",\"ticks\":\"\",\"title\":{\"standoff\":15},\"zerolinecolor\":\"white\",\"automargin\":true,\"zerolinewidth\":2},\"scene\":{\"xaxis\":{\"backgroundcolor\":\"#E5ECF6\",\"gridcolor\":\"white\",\"linecolor\":\"white\",\"showbackground\":true,\"ticks\":\"\",\"zerolinecolor\":\"white\",\"gridwidth\":2},\"yaxis\":{\"backgroundcolor\":\"#E5ECF6\",\"gridcolor\":\"white\",\"linecolor\":\"white\",\"showbackground\":true,\"ticks\":\"\",\"zerolinecolor\":\"white\",\"gridwidth\":2},\"zaxis\":{\"backgroundcolor\":\"#E5ECF6\",\"gridcolor\":\"white\",\"linecolor\":\"white\",\"showbackground\":true,\"ticks\":\"\",\"zerolinecolor\":\"white\",\"gridwidth\":2}},\"shapedefaults\":{\"line\":{\"color\":\"#2a3f5f\"}},\"annotationdefaults\":{\"arrowcolor\":\"#2a3f5f\",\"arrowhead\":0,\"arrowwidth\":1},\"geo\":{\"bgcolor\":\"white\",\"landcolor\":\"#E5ECF6\",\"subunitcolor\":\"white\",\"showland\":true,\"showlakes\":true,\"lakecolor\":\"white\"},\"title\":{\"x\":0.05},\"mapbox\":{\"style\":\"light\"}}},\"xaxis\":{\"anchor\":\"y\",\"domain\":[0.0,1.0],\"title\":{\"text\":\"Total Bill ($)\"}},\"yaxis\":{\"anchor\":\"x\",\"domain\":[0.0,1.0],\"title\":{\"text\":\"Tip ($)\"}},\"legend\":{\"title\":{\"text\":\"sex\"},\"tracegroupgap\":0,\"itemsizing\":\"constant\"},\"title\":{\"text\":\"Total Bill vs Tip Amount\"}},                        {\"responsive\": true}                    ).then(function(){\n",
       "                            \n",
       "var gd = document.getElementById('ab088b43-e793-45cf-aa46-42676878e556');\n",
       "var x = new MutationObserver(function (mutations, observer) {{\n",
       "        var display = window.getComputedStyle(gd).display;\n",
       "        if (!display || display === 'none') {{\n",
       "            console.log([gd, 'removed!']);\n",
       "            Plotly.purge(gd);\n",
       "            observer.disconnect();\n",
       "        }}\n",
       "}});\n",
       "\n",
       "// Listen for the removal of the full notebook cells\n",
       "var notebookContainer = gd.closest('#notebook-container');\n",
       "if (notebookContainer) {{\n",
       "    x.observe(notebookContainer, {childList: true});\n",
       "}}\n",
       "\n",
       "// Listen for the clearing of the current output cell\n",
       "var outputEl = gd.closest('.output');\n",
       "if (outputEl) {{\n",
       "    x.observe(outputEl, {childList: true});\n",
       "}}\n",
       "\n",
       "                        })                };                });            </script>        </div>"
      ]
     },
     "metadata": {},
     "output_type": "display_data"
    }
   ],
   "source": [
    "# Put your code here  \n",
    "\n",
    "import matplotlib.pyplot as plt\n",
    "import pandas as pd\n",
    "import plotly.express as px\n",
    "\n",
    "\n",
    "\n",
    "df = pd.DataFrame(my_plotly_data)\n",
    "#used https://plotly.com/python/line-and-scatter/\n",
    "fig = px.scatter(\n",
    "    df, x=\"total_bill\", y=\"tip\", \n",
    "    color=\"sex\", \n",
    "    size=\"size\", \n",
    "    hover_data=[\"smoker\", \"day\", \"time\"],\n",
    "    title=\"Total Bill vs Tip Amount\",\n",
    "    labels={\"total_bill\": \"Total Bill ($)\", \"tip\": \"Tip ($)\"}\n",
    ")\n",
    "\n",
    "fig.show()"
   ]
  },
  {
   "cell_type": "markdown",
   "id": "30af3464",
   "metadata": {},
   "source": [
    "#### &#9989; **Question 2.4 (2 points)**: How does your plot look? If you had more time to clean up this visualization, what changes would you make to it?"
   ]
  },
  {
   "cell_type": "markdown",
   "id": "4c3a05af",
   "metadata": {},
   "source": [
    "I think it looks good and presents all available data, if i had more time i would try to find a diffrent graph that could visually show all data."
   ]
  },
  {
   "cell_type": "markdown",
   "id": "da4fb42d",
   "metadata": {},
   "source": [
    "---\n",
    "### &#128721; STOP\n",
    "**Pause to commit your changes to your Git repository! (1 point)**\n",
    "\n",
    "Take a moment to save your notebook, commit the changes to your Git repository using the commit message \"**Committing Part 2**\", and push the changes to GitHub."
   ]
  },
  {
   "cell_type": "markdown",
   "id": "c5db3757",
   "metadata": {},
   "source": [
    "----\n",
    "----\n",
    "\n",
    "<a id=\"part-3-downloading-and-analyzing-unfamiliar-data-24-points\"></a>\n",
    "\n",
    "# Part 3: Downloading and Analyzing unfamiliar data (24 points)\n",
    "\n",
    "[Back to Table of Contents](#Table-of-Contents)\n",
    "\n",
    "For this part of the exam, you're to download and analyze a dataset that you've likely not looked at before. You'll perform some simple, exploratorary analysis and create basic visualizations.\n",
    "\n",
    "In particular, you're going to be working with a dataset that contains data on 100 different animes.\n",
    "\n",
    "There are 9 columns; here we will be concerned with those described in the table below.\n",
    "\n",
    "| Column      | Description                                                                           |\n",
    "|-------------|---------------------------------------------------------------------------------------|\n",
    "|  Anime name       | The title of the anime series or movie that is the most watched in a given country.   |\n",
    "|Most watched in country|The country where the specified anime has the highest viewership or popularity.  |\n",
    "| Ratings    | The average viewer rating for the anime, typically on a scale of 1 to 10                |\n",
    "| Number of episodes     | The total number of episodes produced for the anime series.                       |\n",
    "| Studio name      | The name of the production studio responsible for creating the anime               |\n",
    "| Budget | The estimated production budget for the anime, expressed in millions of U.S. dollars.    |\n",
    "| Release year | The year the anime was first released or aired.                                    |\n",
    "| Genre      | The genre or category of the anime                                                |\n",
    "| Duration per episode| The average duration of each episode in minutes for the anime series.             |\n",
    "\n",
    "The link to the full dataset is [here](https://www.kaggle.com/datasets/samikshadalvi/100-most-watched-anime-in-the-world/data)\n",
    "\n"
   ]
  },
  {
   "cell_type": "markdown",
   "id": "7b7bf6af",
   "metadata": {},
   "source": [
    "&#9989; **Question 3.1.1 (1 point)**: To get started, use the curl command to download the data set using this link (https://raw.githubusercontent.com/gambre11/CMSE202/refs/heads/main/most_watched_anime_dataset_100_entries.csv) "
   ]
  },
  {
   "cell_type": "code",
   "execution_count": null,
   "id": "5c22a4c2",
   "metadata": {},
   "outputs": [],
   "source": [
    "# Put your code here"
   ]
  },
  {
   "cell_type": "markdown",
   "id": "de98c0c0",
   "metadata": {},
   "source": [
    "&#9989; **Question 3.1.2 (2 points)**: Now **read in the dataset** and then display the first 20 rows of the data using **Pandas**."
   ]
  },
  {
   "cell_type": "code",
   "execution_count": null,
   "id": "a70d19d8",
   "metadata": {
    "question_id": "P2Q3",
    "tags": [
     "student_answer"
    ]
   },
   "outputs": [],
   "source": [
    "# Put your code here"
   ]
  },
  {
   "cell_type": "markdown",
   "id": "2c863d2b",
   "metadata": {},
   "source": [
    "This dataset contains more information that we care about at the moment. \n",
    "\n",
    "&#9989; **Question 3.2 (3 pts)**: Remove/Drop the columns ''Genre, Duration per Episode (minutes), Most Watched in Country''\n"
   ]
  },
  {
   "cell_type": "code",
   "execution_count": null,
   "id": "169ed088",
   "metadata": {
    "question_id": "P2Q3",
    "tags": [
     "student_answer"
    ]
   },
   "outputs": [],
   "source": [
    "# Put your code here\n"
   ]
  },
  {
   "cell_type": "markdown",
   "id": "a088b448",
   "metadata": {},
   "source": [
    "&#9989; **Question 3.3 (5 points)**: Use built-in Pandas functions to get a quick statistical summary of your data (e.g. the mean, standard deviation, min, max, etc) **divided by Animation studio name .**"
   ]
  },
  {
   "cell_type": "code",
   "execution_count": null,
   "id": "3e915f6b",
   "metadata": {
    "execution": {
     "iopub.execute_input": "2025-02-23T19:30:31.886154Z",
     "iopub.status.busy": "2025-02-23T19:30:31.885866Z",
     "iopub.status.idle": "2025-02-23T19:30:31.888852Z",
     "shell.execute_reply": "2025-02-23T19:30:31.888308Z",
     "shell.execute_reply.started": "2025-02-23T19:30:31.886117Z"
    },
    "question_id": "P2Q3",
    "tags": [
     "student_answer"
    ]
   },
   "outputs": [],
   "source": [
    "# Put your code here\n",
    "\n",
    "#note this code may make dispalying your whole dataframe easier. uncomment to use\n",
    "#with pd.option_context('display.max_rows', None, 'display.max_columns', None): \n",
    "    #print(df)\n",
    "\n"
   ]
  },
  {
   "cell_type": "markdown",
   "id": "120ed4ef",
   "metadata": {},
   "source": [
    "&#9989; **Question 3.4 (2 points)**: Looking at the above output, answer the following questions: \n",
    "\n",
    "1. Which studio(s) had the lowest budget in this dataset?\n",
    "2. Which studio(s) had the latest release year?\n",
    "3. Which studio(s) had the least entries in this dataset?\n",
    "4. Which studio(s) had the lowest average rating in this dataset?"
   ]
  },
  {
   "cell_type": "markdown",
   "id": "9c8b55c9",
   "metadata": {
    "question_id": "P2Q3",
    "tags": [
     "student_answer"
    ]
   },
   "source": [
    "**<font size=+3>&#9998;</font> Do This**: *Record your answers here.*\n",
    "\n"
   ]
  },
  {
   "cell_type": "markdown",
   "id": "1042f9f9",
   "metadata": {},
   "source": [
    "&#9989; **Question 3.5 (8 points)**: Using `plotly` make a figure with boxplots showing each animation studio and their number of episodes : \n",
    "\n",
    "1. Make sure the `Animation Studio Name` is the  x-axis and it's labeled\n",
    "\n",
    "2. Give the plot a title\n",
    "\n",
    "3. Set a horizontal line on this plot at y = 190\n",
    "\n",
    "4. Set the background of the plot to be white instead of blue\n",
    "\n",
    "5. **Optional** Can you center the title and/or make each box plot a different color?"
   ]
  },
  {
   "cell_type": "code",
   "execution_count": null,
   "id": "37b6a904",
   "metadata": {},
   "outputs": [],
   "source": [
    "#Put your code here!"
   ]
  },
  {
   "cell_type": "markdown",
   "id": "f73653ac",
   "metadata": {},
   "source": [
    "&#9989; **Question 3.6 (2 points)**: Looking at the above output, answer the following questions: \n",
    "\n",
    "1. Which studio has the highest median value for episodes to watch?\n",
    "2. Which studios have a median number of episodes under 190?\n"
   ]
  },
  {
   "cell_type": "markdown",
   "id": "3504aa6e",
   "metadata": {
    "question_id": "P2Q3",
    "tags": [
     "student_answer"
    ]
   },
   "source": [
    "**<font size=+3>&#9998;</font> Do This**: *Record your answers here.*"
   ]
  },
  {
   "cell_type": "markdown",
   "id": "d272b234",
   "metadata": {},
   "source": [
    "---\n",
    "### &#128721; STOP\n",
    "**Pause to commit your changes to your Git repository! (1 point)**\n",
    "\n",
    "Take a moment to save your notebook, commit the changes to your Git repository using the commit message \"**Committing Part 3**\", and push the changes to GitHub."
   ]
  },
  {
   "cell_type": "markdown",
   "id": "d59e4ea7",
   "metadata": {},
   "source": [
    "![keepgoing](https://media.giphy.com/media/XcAa52ejGuNqdb5SFQ/giphy.gif?cid=790b761114d73fop8879b63i6lpgjulam3sgmg7gib5vksnd&ep=v1_gifs_search&rid=giphy.gif&ct=g)"
   ]
  },
  {
   "cell_type": "markdown",
   "id": "e0e87d61",
   "metadata": {},
   "source": [
    "---\n",
    "<a id=\"part-4-object-oriented-programming-38-points\"></a>\n",
    "\n",
    "# Part 4: Object-Oriented Programming (38 points)\n",
    "\n",
    "[Back to Table of Contents](#Table-of-Contents)\n"
   ]
  },
  {
   "cell_type": "markdown",
   "id": "97cead65",
   "metadata": {},
   "source": [
    "&#9989; **Question 4.1 (9 points)**: The following cell contains a draft of a class called `Freezer` with only the `__init__` constructor. Complete the `__init__` constructor so that it:\n",
    "\n",
    "- Takes in these arguments: `size`,`color`,`location`,`temperature`, and `plugged_in` with default values on `temperature` and `plugged_in`. These arguments correspond to attributes of the same name. \n",
    "\n",
    "- The default value of `plugged_in`should be set to `True`. The default value of `temperature` should be set to an appropriate temperature of a freezer that is on. \n"
   ]
  },
  {
   "cell_type": "code",
   "execution_count": null,
   "id": "e8bb368c",
   "metadata": {
    "question_id": "P3Q8",
    "tags": [
     "student_answer"
    ]
   },
   "outputs": [],
   "source": [
    "#Finish this code by adding to it and completing it! Change any places with a ??\n",
    "class Freezer:\n",
    "    \"\"\"Base class for freezers. \n",
    "    \n",
    "    Attributes\n",
    "    ----------\n",
    "    size : str\n",
    "        The size of the freezer. \n",
    "    \n",
    "    color : str\n",
    "        The color of the freezer. \n",
    "    \n",
    "    location : str\n",
    "        The location of the freezer. Could be 'kitchen', 'basement', 'garage' etc..\n",
    "    \n",
    "    temperature : float\n",
    "        The temperature of the freezer. By default should be temperature of a freezer that is on.\n",
    "    \n",
    "    plugged_in : boolean\n",
    "        If the freezer is plugged in or not. By default set to 'True' meaning it is plugged in and on.\n",
    "    \"\"\"\n",
    "    def __init__(self,size,color,location,temperature=??,plugged_in = ??): \n",
    "        \"\"\"Initialize the freezer with its attributes \n",
    "        and set the initial temperature and plugged_in.\n",
    "        \n",
    "        Input Parameter\n",
    "        ---------------\n",
    "        size : str\n",
    "            The size of the freezer. \n",
    "        \n",
    "        color : str\n",
    "            The color of the freezer. \n",
    "    \n",
    "        location : str\n",
    "            The location of the freezer. Could be 'kitchen', 'basement', 'garage' etc..\n",
    "        \n",
    "        Default Parameter\n",
    "        -----------------\n",
    "        temperature : float\n",
    "            The temperature of the freezer. By default should be temperature of a freezer that is on.\n",
    "    \n",
    "        plugged_in : boolean\n",
    "            If the freezer is plugged in or not. By default set to 'True' meaning it is plugged in and on.\"\"\"\n",
    "        \n",
    "        # Put your code here\n",
    "        \n",
    "        self.size = ??\n",
    "        self.color = ??\n",
    "        self.location = ??\n",
    "        self.temperature = ??\n",
    "        self.plugged_in = ??\n",
    "        \n",
    "    \n",
    "    \n",
    "    \n",
    "    #########################\n",
    "    #complete this later\n",
    "    \n",
    "    \n",
    "    def temp_convert(self,new_temp_unit):\n",
    "        \"\"\"Filler Doc String to be completed later\n",
    "        \n",
    "        Input Parameter\n",
    "        ---------------\n",
    "        \n",
    "        new_temp_unit : ??\n",
    "            ??\n",
    "            \"\"\"\n"
   ]
  },
  {
   "cell_type": "markdown",
   "id": "8ea7bbcf",
   "metadata": {},
   "source": [
    "## Test your code\n",
    "\n",
    "Let's check that the code works. Run the following cells. If an error is returned, go back and debug your code."
   ]
  },
  {
   "cell_type": "code",
   "execution_count": null,
   "id": "b0155fe2",
   "metadata": {
    "question_id": "P3Q8",
    "tags": [
     "student_answer"
    ]
   },
   "outputs": [],
   "source": [
    "#\n",
    "my_freezer = Freezer(color = \"white\", location = 'kitchen', size = \"full\")\n",
    "\n",
    "print(my_freezer.size)\n",
    "my_freezer.temperature"
   ]
  },
  {
   "cell_type": "markdown",
   "id": "1898d751",
   "metadata": {},
   "source": [
    "&#9989; **Question 4.1.2 (1 point):** Oh no! We did not specify our unit of temperature when creating this class. Go back to your `Freezer` class and update your doc string to include information detailing which unit of temperature your `Freezer` class defaults to. After you have updated your doc string, paste your text that you added into the cell below.\n",
    "\n"
   ]
  },
  {
   "cell_type": "markdown",
   "id": "fc968cc2",
   "metadata": {},
   "source": [
    "Paste your added doc string text here"
   ]
  },
  {
   "cell_type": "markdown",
   "id": "84dfc2e7",
   "metadata": {},
   "source": [
    "&#9989; **Question 4.1.3 (5 points):** Now go back and add an additional attribute to your `Freezer` class inside of your `__init__` constructor called `temp_unit` that specifies your default temperature unit as a string. ('Celcius', 'Fahrenheight', or 'Kelvin'). make sure you update your doc string to reflect this change as well."
   ]
  },
  {
   "cell_type": "code",
   "execution_count": null,
   "id": "5d091bff",
   "metadata": {},
   "outputs": [],
   "source": [
    "#paste your updated Freezer class code here"
   ]
  },
  {
   "cell_type": "markdown",
   "id": "54fa1889",
   "metadata": {},
   "source": [
    "## Test your code\n",
    "\n",
    "Let's check that the code works. Run the following cells. "
   ]
  },
  {
   "cell_type": "code",
   "execution_count": null,
   "id": "acb8fa7d",
   "metadata": {},
   "outputs": [],
   "source": [
    "my_freezer = Freezer(color = \"white\", location = 'kitchen', size = \"full\")\n",
    "my_freezer.temp_unit"
   ]
  },
  {
   "cell_type": "markdown",
   "id": "42e509f8",
   "metadata": {},
   "source": [
    "---\n",
    "&#9989; **Question 4.2 (20 points)**: Now let's work on a method in our `Freezer` class that focuses on the temperature. Modify the method in the `Freezer` class called `temp_convert` so that it takes the temperature attribute and converts it to a different temperature unit (either Celsius, Fahrenheight, or Kelvin).  \n",
    "\n",
    "- This `temp_convert` method should have one input parameter, as a string. This string paremeter will be the temperature unit to be converted to. \n",
    "\n",
    "- This `temp_convert` method should be able to convert from any of the three starting temperature units to another. \n",
    "\n",
    "- `temp_convert` should update the float value of the `temperature` attribute and the string value of the `temp_unit` as well. \n",
    "\n",
    "- `temp_convert` needs its doc string to be updated as well. Make sure you update the filler doc string to reflect what the method does/accomplishes along with information on the input parameters (what their data type is and what the data is).\n",
    "\n",
    "- **OPTIONAL** Can you include an output that says 'successful conversion' if both the `temperature` and `temp_unit` are changed, and an output that says 'unsuccessful conversion: either unit of temperature did not change from original, or unit of temperature does not exist (maybe check your spelling)' if both the `temperature` and `temp_unit` are not changed.\n",
    "        "
   ]
  },
  {
   "cell_type": "code",
   "execution_count": null,
   "id": "0fd92830",
   "metadata": {
    "question_id": "P3Q8",
    "tags": [
     "student_answer"
    ]
   },
   "outputs": [],
   "source": [
    "#Copy your Freezer class here and then add/modify the `temp_convert` method. "
   ]
  },
  {
   "cell_type": "markdown",
   "id": "f9a56d88",
   "metadata": {},
   "source": [
    "## Test your code\n",
    "\n",
    "Let's check that the code works. Run the following cell. If an error is returned, go back and debug your code!"
   ]
  },
  {
   "cell_type": "code",
   "execution_count": null,
   "id": "aead8b37",
   "metadata": {
    "question_id": "P3Q8",
    "tags": [
     "student_answer"
    ]
   },
   "outputs": [],
   "source": [
    "# \n",
    "\n",
    "new_freezer = Freezer(color = \"white\", location = 'kitchen', size = \"full\")\n",
    "print(new_freezer.temp_unit)\n",
    "print(new_freezer.temperature)\n",
    "\n",
    "new_freezer.temp_convert(\"Celsius\")\n",
    "print(new_freezer.temp_unit)\n",
    "print(new_freezer.temperature)\n",
    "\n",
    "new_freezer.temp_convert(\"Kelvin\")\n",
    "print(new_freezer.temp_unit)\n",
    "print(new_freezer.temperature)\n",
    "\n",
    "new_freezer.temp_convert(\"Fahrenheight\")\n",
    "print(new_freezer.temp_unit)\n",
    "print(new_freezer.temperature)\n",
    "\n",
    "new_freezer.temp_convert(\"Kelvin\")\n",
    "print(new_freezer.temp_unit)\n",
    "print(new_freezer.temperature)\n",
    "\n",
    "new_freezer.temp_convert(\"Celsius\")\n",
    "print(new_freezer.temp_unit)\n",
    "print(new_freezer.temperature)\n",
    "\n",
    "new_freezer.temp_convert(\"Fahrenheight\")\n",
    "print(new_freezer.temp_unit)\n",
    "print(new_freezer.temperature)\n",
    "\n",
    "new_freezer.temp_convert(\"Celsius\")\n",
    "print(new_freezer.temp_unit)\n",
    "print(new_freezer.temperature)"
   ]
  },
  {
   "cell_type": "markdown",
   "id": "3e0cab0c",
   "metadata": {},
   "source": [
    "&#9989; **Question 4.3 (2 points):** How does your temperature attribute look when it is printed? Are there too many decimal places? How might you fix this? Either go back and update your code to make this fix or explain how you would make this fix in words. "
   ]
  },
  {
   "cell_type": "markdown",
   "id": "5772c1f0",
   "metadata": {},
   "source": [
    "**Put your answer here**"
   ]
  },
  {
   "cell_type": "markdown",
   "id": "59ddbb0c",
   "metadata": {},
   "source": [
    "---\n",
    "### &#128721; STOP\n",
    "**Pause to commit your changes to your Git repository! (1 point)**\n",
    "\n",
    "Take a moment to save your notebook, commit the changes to your Git repository using the commit message \"**Committing Part 4**\", and push the changes to GitHub.\n",
    "\n",
    "---"
   ]
  },
  {
   "cell_type": "markdown",
   "id": "5f544d19",
   "metadata": {},
   "source": [
    "---\n",
    "<a id=\"part-5-conclusion-3-points\"></a>\n",
    "\n",
    "# Part 5. Conclusion (3 points)\n",
    "\n",
    "[Back to Table of Contents](#Table-of-Contents)\n",
    "\n",
    "Make sure all of your changes to your repository are committed and pushed to GitHub. \n",
    "Before you leave\n",
    "\n",
    "1. Commit changes to your **local** `git` repository (1 point)\n",
    "\n",
    "2. Push the changes to your GitHub repository (1 point)\n",
    "\n",
    "3. Upload your notebook to D2L in case something went wrong with your repository or if you couldn't get the repository to work.  (1 point)"
   ]
  },
  {
   "cell_type": "markdown",
   "id": "56b3a4bb",
   "metadata": {},
   "source": [
    "Also, please take this mid-semester evaluation survey so I might try and correct my teaching for the rest of the term! https://forms.office.com/r/Ev2vGcz4Qq"
   ]
  },
  {
   "cell_type": "markdown",
   "id": "13e2870e",
   "metadata": {},
   "source": [
    "## You're done! Congrats on finishing your CMSE 202 Midterm! \n",
    "\n",
    "![Moira2](https://media.giphy.com/media/d1E2HnwywoTkES08/giphy.gif)"
   ]
  }
 ],
 "metadata": {
  "kernelspec": {
   "display_name": "Python 3.11 (default)",
   "language": "python",
   "name": "python3"
  },
  "language_info": {
   "codemirror_mode": {
    "name": "ipython",
    "version": 3
   },
   "file_extension": ".py",
   "mimetype": "text/x-python",
   "name": "python",
   "nbconvert_exporter": "python",
   "pygments_lexer": "ipython3",
   "version": "3.11.11"
  },
  "widgets": {
   "application/vnd.jupyter.widget-state+json": {
    "state": {},
    "version_major": 2,
    "version_minor": 0
   }
  }
 },
 "nbformat": 4,
 "nbformat_minor": 5
}
